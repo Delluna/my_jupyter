








int()   # 转为整形
x ='1111'
a = int(x, 2) # 二进制转为十进制
print("a:" + str(a))
a = int(x, 16) # 十六进制转为十进制


float() # 转为浮点型


str()   # 转为字符串


hex()   # 转为十六进制


ord()   # 将一个字符转换为它的整数值        print(ord('a')) # 97


chr()   # 将一个整数值转换为它的字符形式   print(chr(65))  # 'A'


oct()   # 转为八进制


bin()   # 将数字映射为二进制字符串    print(bin(8)+bin(12^4)) # '0b10000b1000'














# 方式一：内置函数
str1 = 'SDA'
str1 = str1.lower()
print(str1)

str2 = 'sda'
str2 = str2.upper()
print(str2)


# 方式二：   （a比A的ASCII大32，a为97，A为65）
def to_upper(char):
    if char >= 'a' and char <= 'z':
        return chr(ord(char)-32)
    return char

def to_lower(char):
    if char >= 'A' and char <= 'Z':
        return chr(ord(char)+32)
    return char

str1 = 'S'
str1 = to_lower(str1)
print(str1)

str2 = 'a'
str2 = to_upper(str2)
print(str2)





print(r'\n') # 输出结果：\n





print("My name is %s and weight is %d kg!" % ('Zara', 21))





str.count(str, beg=0, end=len(str))   # 返回 str 在 str 里面出现的次数，如果 beg 或者 end 指定则返回指定范围内 str 出现的次数
str.find(str, beg=0, end=len(str))    # 检测 str 是否包含在 str 中，如果 beg 和 end 指定范围，则检查是否包含在指定范围内，如果是返回开始的索引值，否则返回-1
str.join(seq)    # 以 str 作为分隔符，将 seq 中所有的元素(的字符串表示)合并为一个新的字符串
str.replace(str1, str2,  num=str.count(str1)) # 把 str 中的 str1 替换成 str2,如果 num 指定，则替换不超过 num 次.
str.split(str="", num=str.count(str)) # 以 str 为分隔符切片 str，如果 num 有指定值，则仅分隔 num+1 个子字符串














tup = ('physics', 'chemistry', 1997, 2000)














# 以下删除元组元素操作是非法的
tup = ('physics', 'chemistry', 1997, 2000)
try:
    del tup[0]
except Exception as e:
    print(e)





tup = ('physics', 'chemistry', 1997, 2000)
del tup








# 以下修改元组元素操作是非法的
tup = ('physics', 'chemistry', 1997, 2000)

try:
    tup[0] = 100
except Exception as e:
    print(e)





# 如下实例:
tup1 = (1, 2, 3)
tup2 = (4, 5, 6)
tup3 = tup1 + tup2    # (1, 2, 3, 4, 5, 6)          易错点、
print(tup3)





# 元组可以使用下标索引来访问元组中的值
tup = (1, 2, 3, 4, 5, 6, 7 )
for i in range(len(tup)):
    print(tup[i])

for item in tup:
    print(item)





lst = [1, 2, 3, 4]
tup = tuple(lst)
print(tup)











# 获取每个元素的下标和元素值--enumerate
nums = [1, 2, 3, 4, 5, 6, 7]
for index, num in enumerate(nums): 
    print(index, num)


# 获取二维数组行数和列数
matrix = [[0, 0, 0, 0], 
          [0, 0, 0, 0], 
          [0, 0, 0, 0], 
          [0, 0, 0, 0], 
          [0, 0, 0, 0]]
row = len(matrix)
col = len(matrix[0])
print(row,col)





#创建一维数组
lst = []
lst2 = [1, 2, 3, 4, 5, 6, 7]


# 创建二维数组 
# 方式一：使用循环
rows = 5
cols = 4
array = []
for i in range(rows):
    row = []
    for j in range(cols):
        row.append(0)  # 或者使用其他值初始化
    array.append(row)
print(array)


# 创建二维数组 
# 方式二：使用列表推导式
rows = 5
cols = 4
array = [[0 for _ in range(cols)] for _ in range(rows)]
print(array)





# 增加元素--append()
lst = []

lst.append('Google')

print(lst)


# 增加元素--insert()
lst = []

index = 0
item = 'Facebook'
lst.insert(index, item)

print(lst)





# 通过索引删除元素（只删除一个元素）
lst = ['Facebook', 'Google']

index = 1
del lst[index]     # del语句可以删除整个列表或列表中的特定元素。如果要删除特定元素，需要使用其索引。

print(lst)


# 通过索引删除元素（只删除一个元素）
lst = ['Facebook', 'Google']

index = 1
e = lst.pop(index)  # 通过索引删除元素，返回元素值。

print(lst)


# 通过元素值删除元素，（只删除一个元素）
lst = ['Facebook', 'Google', 'Google', 'Google', 'Google']

e = 'Google'
lst.remove(e)

print(lst)


# 通过元素值删除元素，（删除多个元素）
lst = ['Facebook', 'Google', 'Google', 'Google', 'Google']

e = 'Google'
lst = [i for i in lst if i != e]

print(lst)





lst = ['Facebook', 'Google']

index = 1
lst[index] = 'value'

print(lst)





d = [0, 1, 2, 3, 4, 5, 6, 7, 8, 9]
value = lst[index]
切片
lst[1:] # 从第二个元素开始向后截取列表
lst[:4] # 从第五个元素开始向前截取列表（不包含第五个元素）
lst[1:4]
lst[1:4:2] #Python 列表截取可以接收第三个参数，参数作用是截取的步长，在索引 1 到索引 4 的位置并设置为步长为 2（不包含索引 4 的元素）





lst = [0, 1, 2, 3, 4, 5, 6, 7, 8, 9]

print(lst[1:]) # 从第二个元素开始向后截取列表（包含第二个元素）

print(lst[:4]) # 从第五个元素开始向前截取列表（不包含第五个元素）

print(lst[1:4]) # 截取第二个元素到第五个元素（包含第二个元素，不包含第五个元素）

#Python 列表截取可以接收第三个参数，参数作用是截取的步长，在索引 1 到索引 4 的位置并设置为步长为 2（不包含索引 4 的元素）
print(lst[1:4:2])





len(list) # 列表元素个数
max(list) # 返回列表元素最大值
min(list) # 返回列表元素最小值

list.append(obj) # 在列表末尾添加新的对象obj
list.count(obj) # 统计某个元素obj在列表中出现的次数
list.extend(seq) # 在列表末尾一次性追加另一个序列中的多个值（用新列表扩展原来的列表）
list.index(obj) # 从列表中找出某个值obj第一个匹配项的索引位置
list.insert(index, obj) # 将对象obj插入列表
list.pop([index=-1]) # 移除列表中的一个元素（默认最后一个元素），并且返回该元素的值
list.remove(obj) # 移除列表中某个值的第一个匹配项
list.reverse() # 反向列表中元素
list.sort(cmp=None, key=None, reverse=False)    #对原列表进行排序














# 创建空字典
dt = {}


# 创建字典
dt = {'a': 1, 'b': 2, 'b': '3'}

print(dt)





# 方式 1：
dt = {'a': 1, 'b': 2}

dt['key'] = 'value' 

print(dt)


# 方式 2：
dt = {'a': 1, 'b': 2}

dt.update({'key': 'value'})

print(dt)





# 方式一： pop(key[, default])   移除并返回字典中指定键的值，如果键不存在则返回默认值None。
dt = {'a': 1, 'b': 2, 'c': 3}

key = 100
value = dt.pop(key, -999) # 移除并返回字典中指定键的值，如果键不存在则返回 -999。
print(value)

key = 'a'
value = dt.pop(key, None)
print(value)


# 方式二： del
dt = {'a': 1, 'b': 2, 'c': 3}

key = 'a'
del dt[key]     # 删除键是'key'的条目

print(dt)


# 清空字典
# 方式一： dict.clear()
dt = {'a': 1, 'b': 2, 'c': 3}

dt.clear()      # 清空字典所有条目

print(dt)


# 清空字典
dt = {'a': 1, 'b': 2, 'c': 3}

del dt          # 删除字典

try:
    print(dt)
except Exception as e:
    print(f'发生错误：{e}')








# 方式 1：
dt = {'a': 1, 'b': 2}

dt['a'] = 'value' 

print(dt)


# 方式 2：
dt = {'a': 1, 'b': 2}

dt.update({'a': 'value'})

print(dt)





value = dict['key'] # 如果用字典里没有的键访问数据，会报错
dict.get('key', default=None)     #根据key找对应value，找不到这返回default的值
dict.keys()      # 输出所有键   输出为[key1, key2,……]
dict.values()    # 输出所有值   输出为[value1, value2,……]





len(dict) # 计算字典元素个数，即键的总数。

dict.copy() # 返回一个字典的浅复制

dict.has_key(key) # 如果键在字典dict里返回true，否则返回false。Python3 不支持。

dict.fromkeys(seq[, val]) # 创建一个新字典，以序列 seq 中元素做字典的键，val 为字典所有键对应的初始值

dict.items() # 以列表返回可遍历的(键, 值) 元组数组
dict.keys() # 以列表返回一个字典所有的键
dict.values() # 以列表返回字典中的所有值

dict.get(key, default=None) # 返回指定键的值，如果值不在字典中返回default值
dict.setdefault(key, default=None) # 和get()类似, 但如果键不存在于字典中，将会添加键并将值设为default

dict.update(dict2) # 把字典dict2的键/值对更新到dict里
dict.pop(key[,default]) # 删除字典给定键 key 所对应的值，返回值为被删除的值。key值必须给出。 否则，返回default值。
dict.popitem() # 返回并删除字典中的最后一对键和值。
dict.clear() # 删除字典内所有元素














from collections import deque
# 创建一个空的deque
dq = deque()








# 头部（左侧）添加元素
dq = deque(['a', 'b'])
dq.appendleft('c')
print("输出结果：",end='')
print(dq)


# 尾部（右侧）添加元素
dq = deque()
dq.append('a')
dq.append('b')
print("输出结果：",end='')
print(dq)





# 头部（左侧）批量添加（注意顺序会逆序插入）
dq = deque([0, 1, 2, 3, 4, 5, 6, 7, 8, 9])
dq.extendleft([-2, -1]) 
print("输出结果：",end='')
print(dq)


# 尾部（右侧）批量添加
dq = deque([0, 1, 2, 3, 4, 5, 6])
dq.extend([7, 8, 9])
print("输出结果：",end='')
print(dq)





# 头部（左侧）移除元素
dq = deque([0, 1, 2, 3, 4, 5, 6])
left_item = dq.popleft()
print(left_item)
print(dq)


# 尾部（右侧）移除元素
dq = deque([0, 1, 2, 3, 4, 5, 6])
right_item = dq.pop()
print(right_item)
print(dq)


# 删除指定元素（如果存在多个，仅删除第一个）
dq = deque([1, 2, 3, 3, 4])
dq.remove(3)  # 删除值为 3 的元素（如果存在多个，仅删除第一个）
print(dq)


# 清空双端队列
dq = deque([1, 2, 3, 4, 5])
dq.clear()
print(dq)





dq = deque([1, 2, 3, 3, 4])
dq[2] = 100  # 修改索引 2 位置的元素
print(dq)





dq = deque([1, 2, 3, 3, 4])
head = dq[0] # 表示头部元素
rear = dq[-1] # 表示尾部元素
print(dq)
print(head)
print(rear)

# 插入元素后再查找
dq.appendleft(0)
dq.append(5)
head = dq[0] # 表示头部元素
rear = dq[-1] # 表示尾部元素
print('两端插入元素后')
print(dq)
print(head)
print(rear)





# 往右转两步
dq = deque([1, 2, 3, 4, 5])
dq.rotate(2)
print(dq)  # deque([4, 5, 1, 2, 3])


# 往左转三步
dq = deque([1, 2, 3, 4, 5])
dq.rotate(-3)
print(dq)  # deque([2, 3, 4, 5, 1])


# 翻转双端队列
dq = deque([0, 1, 2, 3, 4, 5, 6, 7, 8])
dq.reverse()
print(dq)














#1.用{}创建set集合
person ={"student","teacher","babe",123,321,123} #同样各种类型嵌套,可以赋值重复数据，但是存储会去重
print(person) #但是显示出来则是去重的   输出：  {321, 'teacher', 'student', 'babe', 123}


#2.空set集合用set()函数表示
person1 = set() #表示空set，不能用person1={}


#3.用set()函数创建set集合
person2 = set(("hello","jerry",133,11,133,"jerru")) #只能传入一个参数，可以是list,tuple等 类型
print(len(person2)) # 输出： 5
print(person2)  # 输出： {133, 'jerry', 11, 'jerru', 'hello'}





add()不会拆分；update()会拆分
person ={"student","teacher","babe",123,321,123}
person.add("student") #如果元素已经存在，则不报错，也不会添加,不会将字符串拆分成多个元素，区别update
print(person)   # 输出：{321, 'babe', 'teacher', 'student', 123}
person.add((1,23,"hello")) #可以添加元组，但不能是list
print(person)   # 输出： {(1, 23, 'hello'), 321, 'babe', 'teacher', 'student', 123}


person.update((1,3)) #可以使用update添加一些元组列表，字典等。但不能是字符串，否则会拆分
print(person)   # 输出：{321, 1, 3, 'teacher', (1, 23, 'hello'), 'babe', 'student', 123}
person.update("abc")
print(person)  #会将字符串拆分成a,b，c三个元素    输出： {321, 1, 3, 'b', 'c', 'teacher', (1, 23, 'hello'), 'a', 'babe', 'student', 123}





person.remove("student")#按元素去删除
print(person)  # 如果不存在 ，会报错。


person.discard("student")#功能和remove一样，好处是没有的话，不会报错
person.pop() #在list里默认删除最后一个，在set里随机删除一个。


# 直接清空set
person.clear()











# 查询是否存在，无法返回索引，使用in判断
if "teacher" in person:
    print("true")
else:
    print("不存在")








set1 & set2





set1 | set2





set1 - set2





set1 ^ set2





import math
math.abs(x)  # 返回数字的绝对值，如abs(-10) 返回 10
math.ceil(x) # 返回数字的上入整数，如math.ceil(4.1) 返回 5
math.exp(x)	# 返回e的x次幂(ex),如math.exp(1) 返回2.718281828459045
math.floor(x)	# 返回数字的下舍整数，如math.floor(4.9)返回 4
math.log(x)	# 如math.log(math.e)返回1.0,math.log(100,10)返回2.0
math.log10(x)	# 返回以10为基数的x的对数，如math.log10(100)返回 2.0
math.max(x1, x2,...)	# 返回给定参数的最大值，参数可以为序列。
math.min(x1, x2,...)	# 返回给定参数的最小值，参数可以为序列。
math.modf(x)	# 返回x的整数部分与小数部分，两部分的数值符号与x相同，整数部分以浮点型表示。
math.pow(x, y)	# x**y 运算后的值。
math.round(x [,n])	# 返回浮点数x的四舍五入值，如给出n值，则代表舍入到小数点后的位数。
math.sqrt(x)	# 返回数字x的平方根

math.choice(seq)	# 从序列的元素中随机挑选一个元素，比如random.choice(range(10))，从0到9中随机挑选一个整数。
math.randrange ([start,] stop [,step])	# 从指定范围内，按指定基数递增的集合中获取一个随机数，基数默认值为 1
math.random()	# 随机生成下一个实数，它在[0,1)范围内。
math.seed([x])	# 改变随机数生成器的种子seed。如果你不了解其原理，你不必特别去设定seed，Python会帮你选择seed。
math.shuffle(list)	# 将序列的所有元素随机排序
math.uniform(x, y)	# 随机生成下一个实数，它在[x,y]范围内。








import math
import numpy as np
import sympy as sp

def taylor_expansion(f, a, n, x_val):
    """ 使用泰勒级数近似计算 f(x) 在 x=a 附近的值 """
    
    # 1. 定义符号变量 x（SymPy 用于符号计算）
    x = sp.Symbol('x')  
    
    # 2. 将输入函数 f(x) 转换为 sympy 表达式
    f_sym = f(x)  
    
    # 3. 初始化泰勒展开的结果
    result = 0  

    # 4. 计算 0 到 n-1 阶的泰勒展开
    for i in range(n):  
        # 4.1 计算 f(x) 的 i 阶导数，并在 x=a 处求值
        derivative = sp.diff(f_sym, x, i).subs(x, a)  
        
        # 4.2 计算泰勒展开的第 i 项
        term = (derivative / math.factorial(i)) * (x_val - a) ** i  
        
        # 4.3 将该项累加到最终结果
        result += term  

    # 5. 返回计算后的近似值，并转换为 float 以兼容 NumPy
    return float(result)  

# 测试 e^x 在 x=0 处的 5 阶展开，估算 e^0.5
f = lambda x: sp.exp(x)  # 定义 e^x
approx_value = taylor_expansion(f, 0, 5, 0.5)

# 输出计算结果
print(f"泰勒展开近似值: {approx_value}")
print(f"e^0.5 的真实值: {np.exp(0.5)}")  # 对比真实值





import sys
line = sys.stdin.readline().strip()
array = line.split()
print(int(array[0]) + int(array[1]))











def simple_search(lst, e):
    for index, item in enumerate(lst):
        if item == e:
            return index
    return None





def binary_search(lst, e):
    low = 0
    high = len(lst) - 1
    while low <= high:
        cur = (low + high) // 2
        if lst[cur] == e:
            return cur
        elif lst[cur] > e:
            high = cur - 1
        elif lst[cur] < e:
            low = cur + 1
    return None



























def biggest(lst):
    value = lst[0]
    index = 0
    for i in range(len(lst)):
        if value < lst[i]:
            value = lst[i]
            index = i
    lst.pop(index)
    return lst, value

def selection_sort(lst):
    sorted_lst = []
    while lst != []:
        list, e = biggest(lst)
        sorted_lst.append(e)
    return sorted_lst





































def quick_sort(lst):
    if len(lst) < 2:
        return lst
    else:
        pivot = lst[0]
        less = []
        greater = []
        for i in range(1, len(lst)):
            if lst[i] <= pivot:
                less.append(lst[i])
            else:
                greater.append(lst[i])
        return quick_sort(less) + [pivot] + quick_sort(greater)





def merge(lst1, lst2):
    if len(lst1) == 0:
        return [lst2[0]] 
    elif len(lst2) == 0:
        return [lst1[0]] 
    else:
        lst = []
        i = 0
        j = 0
        while i < len(lst1) and j < len(lst2):
            if lst1[i] <= lst2[j]:
                lst.append(lst1[i])
                i += 1
            else:
                lst.append(lst2[j])
                j += 1
        if i == len(lst1):
            while j < len(lst2):
                lst.append(lst2[j])
                j += 1
        if j == len(lst2):
            while i < len(lst1):
                lst.append(lst1[i])
                i += 1
        return lst     
        
def merge_sort(lst):
    lst1, lst2 = lst[0:len(lst)//2], lst[len(lst)//2:]
    if len(lst1) == 0 or len(lst2) == 0:
        return [lst2[0]] if len(lst1) == 0 else [lst1[0]]
    elif len(lst1) == 1 and len(lst2) == 1:
        return [lst1[0], lst2[0]] if lst1[0] <= lst2[0] else [lst2[0], lst1[0]]
    else:
        return merge(merge_sort(lst1), merge_sort(lst2))

lst = [1,25,6,7,8,9,3,4,5,6,7,8,9]
sorted_lst = merge_sort(lst)
print(sorted_lst)









































# deque 实现 BFS
from collections import deque
def bfs(graph, root):
    visited = set()
    queue = deque([root])
    while queue:
        vertex = queue.popleft()
        print(vertex, end=" ")
        for neighbour in graph[vertex]:
            if neighbour not in visited:
                visited.add(neighbour)
                queue.append(neighbour)

# 图的邻接表表示
graph = {
    'A': ['B', 'C'],
    'B': ['D', 'E'],
    'C': ['F'],
    'D': [],
    'E': ['F'],
    'F': []
}

bfs(graph, 'A')





















def vis_parents(parents):
    from collections import deque
    d = deque()
    node = parents['final']
    while node != 'start':
        d.append(node)
        node = parents[node]
    str = 'start'
    while len(d) != 0:
        node = d.pop()
        str = str + ' -> ' + node
    return str + '-> final'

def find_lowest_cost_node(costs, processed):
    lowest_node = None
    lowest_value = float('inf')
    for n in costs.keys():
        if n in processed:
            continue
        if costs[n] < lowest_value:
            lowest_value = costs[n]
            lowest_node = n
    return lowest_node

def dijkstra(graph, costs, parents):
    processed = []
    node = find_lowest_cost_node(costs, processed)
    while node is not None:
        cost = costs[node]
        neighbors = graph[node]
        for n in neighbors.keys():
            if neighbors[n] + cost < costs[n]:
                costs[n] = neighbors[n] + cost
                parents[n] = node
        processed.append(node)
        node = find_lowest_cost_node(costs, processed)
    return vis_parents(parents)

# 构建图
graph = {}
graph['start'] = {
    'A': 6,
    'B': 2
}
graph['A'] = {
    'final': 1
}

graph['B'] = {
    'A': 9,
    'final': 5
}
graph['final'] = {}

# 构建开销表
infinity = float('inf')
costs = {
    'A': 6,
    'B': 2,
    'final': infinity
}

# 构建父节点表
parents = {
    'A': 'start',
    'B': 'start',
    'final': None
}

str = dijkstra(graph, costs, parents)
print(str)
























