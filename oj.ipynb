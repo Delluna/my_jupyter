{
 "cells": [
  {
   "cell_type": "markdown",
   "id": "9b0b17a1",
   "metadata": {},
   "source": [
    "### Python关键字"
   ]
  },
  {
   "cell_type": "markdown",
   "id": "c9b40395-0386-43ef-9dd8-508dbe04bc51",
   "metadata": {},
   "source": [
    "- break 语句\t在语句块执行过程中终止循环，并且跳出整个循环\n",
    "- continue 语句\t在语句块执行过程中终止当前循环，跳出该次循环，执行下一次循环。"
   ]
  },
  {
   "cell_type": "markdown",
   "id": "50e321c9-1425-4c10-ad49-ec66fd9aaa43",
   "metadata": {
    "editable": true,
    "slideshow": {
     "slide_type": ""
    },
    "tags": []
   },
   "source": [
    "### Python常用函数"
   ]
  },
  {
   "cell_type": "code",
   "execution_count": null,
   "id": "d89e5864-363e-404b-af3d-30cccba5815e",
   "metadata": {},
   "outputs": [],
   "source": [
    "int()   # 转为整形\n",
    "x ='1111'\n",
    "a = int(x, 2) # 二进制转为十进制\n",
    "print(\"a:\" + str(a))\n",
    "a = int(x, 16) # 十六进制转为十进制"
   ]
  },
  {
   "cell_type": "code",
   "execution_count": null,
   "id": "e597b57d-16fa-4139-8b26-a0f4c4af999e",
   "metadata": {},
   "outputs": [],
   "source": [
    "float() # 转为浮点型"
   ]
  },
  {
   "cell_type": "code",
   "execution_count": null,
   "id": "42e54829-2c66-4762-aa97-6bb34623e31d",
   "metadata": {},
   "outputs": [],
   "source": [
    "str()   # 转为字符串"
   ]
  },
  {
   "cell_type": "code",
   "execution_count": null,
   "id": "d5acf4dc-5c98-467b-92a4-b1b47a142df7",
   "metadata": {},
   "outputs": [],
   "source": [
    "hex()   # 转为十六进制"
   ]
  },
  {
   "cell_type": "code",
   "execution_count": null,
   "id": "935bc360-7134-4f37-9bd6-5310a769d860",
   "metadata": {},
   "outputs": [],
   "source": [
    "ord()   # 将一个字符转换为它的整数值        print(ord('a')) # 97"
   ]
  },
  {
   "cell_type": "code",
   "execution_count": null,
   "id": "bef1582e-204b-45d5-a2e0-4b159925fc3d",
   "metadata": {},
   "outputs": [],
   "source": [
    "chr()   # 将一个整数值转换为它的字符形式   print(chr(65))  # 'A'"
   ]
  },
  {
   "cell_type": "code",
   "execution_count": null,
   "id": "76574d0e-3f71-4249-9257-369e1ccc7ab4",
   "metadata": {},
   "outputs": [],
   "source": [
    "oct()   # 转为八进制"
   ]
  },
  {
   "cell_type": "code",
   "execution_count": null,
   "id": "d445c5ed-c91a-4602-b1d3-939412049aed",
   "metadata": {},
   "outputs": [],
   "source": [
    "bin()   # 将数字映射为二进制字符串    print(bin(8)+bin(12^4)) # '0b10000b1000'"
   ]
  },
  {
   "cell_type": "markdown",
   "id": "b3289ffd",
   "metadata": {},
   "source": [
    "###  Python位运算符"
   ]
  },
  {
   "cell_type": "markdown",
   "id": "89c382e0-f3ae-4fca-98cb-8355c2a8181a",
   "metadata": {},
   "source": [
    "- ^ 异或\n",
    "- & 与\n",
    "- | 或\n",
    "- ~ 非\n",
    "- << 左移   运算数的各二进位全部左移若干位，由 << 右边的数字指定了移动的位数，高位丢弃，低位补0\n",
    "- \\>> 右移   把\">>\"左边的运算数的各二进位全部右移若干位，>> 右边的数字指定了移动的位数\n"
   ]
  },
  {
   "cell_type": "markdown",
   "id": "2bccd0be",
   "metadata": {},
   "source": [
    "### Python字符串"
   ]
  },
  {
   "cell_type": "markdown",
   "id": "1fc5e9b8-9a2e-4c57-8651-2fcf5e0b3e00",
   "metadata": {},
   "source": [
    "#### 'a'\\~'z'与'A'\\~'Z'之间的转换"
   ]
  },
  {
   "cell_type": "code",
   "execution_count": 151,
   "id": "edf85b3a",
   "metadata": {
    "editable": true,
    "slideshow": {
     "slide_type": ""
    },
    "tags": []
   },
   "outputs": [
    {
     "name": "stdout",
     "output_type": "stream",
     "text": [
      "sda\n",
      "SDA\n"
     ]
    }
   ],
   "source": [
    "# 方式一：内置函数\n",
    "str1 = 'SDA'\n",
    "str1 = str1.lower()\n",
    "print(str1)\n",
    "\n",
    "str2 = 'sda'\n",
    "str2 = str2.upper()\n",
    "print(str2)"
   ]
  },
  {
   "cell_type": "code",
   "execution_count": 152,
   "id": "deccd79e-ee13-4890-95bd-c1745198cb91",
   "metadata": {},
   "outputs": [
    {
     "name": "stdout",
     "output_type": "stream",
     "text": [
      "s\n",
      "A\n"
     ]
    }
   ],
   "source": [
    "# 方式二：   （a比A的ASCII大32，a为97，A为65）\n",
    "def to_upper(char):\n",
    "    if char >= 'a' and char <= 'z':\n",
    "        return chr(ord(char)-32)\n",
    "    return char\n",
    "\n",
    "def to_lower(char):\n",
    "    if char >= 'A' and char <= 'Z':\n",
    "        return chr(ord(char)+32)\n",
    "    return char\n",
    "\n",
    "str1 = 'S'\n",
    "str1 = to_lower(str1)\n",
    "print(str1)\n",
    "\n",
    "str2 = 'a'\n",
    "str2 = to_upper(str2)\n",
    "print(str2)"
   ]
  },
  {
   "cell_type": "markdown",
   "id": "83cc61a4-ecd0-4fbf-9c23-b49b81cfcf1d",
   "metadata": {},
   "source": [
    "r/R\t# 所有的字符串都是直接按照字面的意思来使用，没有转义特殊或不能打印的字符。 原始字符串除在字符串的第一个引号前加上字母\"r\"（可以大小写）以外，与普通字符串有着几乎完全相同的语法。"
   ]
  },
  {
   "cell_type": "code",
   "execution_count": 153,
   "id": "99f95a2a-a9c9-407b-91eb-cbb86be4cc59",
   "metadata": {},
   "outputs": [
    {
     "name": "stdout",
     "output_type": "stream",
     "text": [
      "\\n\n"
     ]
    }
   ],
   "source": [
    "print(r'\\n') # 输出结果：\\n"
   ]
  },
  {
   "cell_type": "markdown",
   "id": "57d5e39f-c16d-4096-b143-8d596637cc63",
   "metadata": {},
   "source": [
    "%\t格式字符串"
   ]
  },
  {
   "cell_type": "code",
   "execution_count": 154,
   "id": "d8927282",
   "metadata": {},
   "outputs": [
    {
     "name": "stdout",
     "output_type": "stream",
     "text": [
      "My name is Zara and weight is 21 kg!\n"
     ]
    }
   ],
   "source": [
    "print(\"My name is %s and weight is %d kg!\" % ('Zara', 21))"
   ]
  },
  {
   "cell_type": "markdown",
   "id": "db7d8a87-ecb5-417d-8449-e138c0d76868",
   "metadata": {},
   "source": [
    "#### 常用函数"
   ]
  },
  {
   "cell_type": "code",
   "execution_count": 155,
   "id": "a5e2ebb2-cb3c-4dec-9cdf-71fc0d855809",
   "metadata": {},
   "outputs": [
    {
     "ename": "TypeError",
     "evalue": "str.count() takes no keyword arguments",
     "output_type": "error",
     "traceback": [
      "\u001b[1;31m---------------------------------------------------------------------------\u001b[0m",
      "\u001b[1;31mTypeError\u001b[0m                                 Traceback (most recent call last)",
      "Cell \u001b[1;32mIn[155], line 1\u001b[0m\n\u001b[1;32m----> 1\u001b[0m \u001b[38;5;28mstr\u001b[39m\u001b[38;5;241m.\u001b[39mcount(\u001b[38;5;28mstr\u001b[39m, beg\u001b[38;5;241m=\u001b[39m\u001b[38;5;241m0\u001b[39m, end\u001b[38;5;241m=\u001b[39m\u001b[38;5;28mlen\u001b[39m(\u001b[38;5;28mstr\u001b[39m))   \u001b[38;5;66;03m# 返回 str 在 str 里面出现的次数，如果 beg 或者 end 指定则返回指定范围内 str 出现的次数\u001b[39;00m\n\u001b[0;32m      2\u001b[0m \u001b[38;5;28mstr\u001b[39m\u001b[38;5;241m.\u001b[39mfind(\u001b[38;5;28mstr\u001b[39m, beg\u001b[38;5;241m=\u001b[39m\u001b[38;5;241m0\u001b[39m, end\u001b[38;5;241m=\u001b[39m\u001b[38;5;28mlen\u001b[39m(\u001b[38;5;28mstr\u001b[39m))    \u001b[38;5;66;03m# 检测 str 是否包含在 str 中，如果 beg 和 end 指定范围，则检查是否包含在指定范围内，如果是返回开始的索引值，否则返回-1\u001b[39;00m\n\u001b[0;32m      3\u001b[0m \u001b[38;5;28mstr\u001b[39m\u001b[38;5;241m.\u001b[39mjoin(seq)    \u001b[38;5;66;03m# 以 str 作为分隔符，将 seq 中所有的元素(的字符串表示)合并为一个新的字符串\u001b[39;00m\n",
      "\u001b[1;31mTypeError\u001b[0m: str.count() takes no keyword arguments"
     ]
    }
   ],
   "source": [
    "str.count(str, beg=0, end=len(str))   # 返回 str 在 str 里面出现的次数，如果 beg 或者 end 指定则返回指定范围内 str 出现的次数\n",
    "str.find(str, beg=0, end=len(str))    # 检测 str 是否包含在 str 中，如果 beg 和 end 指定范围，则检查是否包含在指定范围内，如果是返回开始的索引值，否则返回-1\n",
    "str.join(seq)    # 以 str 作为分隔符，将 seq 中所有的元素(的字符串表示)合并为一个新的字符串\n",
    "str.replace(str1, str2,  num=str.count(str1)) # 把 str 中的 str1 替换成 str2,如果 num 指定，则替换不超过 num 次.\n",
    "str.split(str=\"\", num=str.count(str)) # 以 str 为分隔符切片 str，如果 num 有指定值，则仅分隔 num+1 个子字符串"
   ]
  },
  {
   "cell_type": "markdown",
   "id": "9939cbe8",
   "metadata": {
    "editable": true,
    "slideshow": {
     "slide_type": ""
    },
    "tags": []
   },
   "source": [
    "### Python元组"
   ]
  },
  {
   "cell_type": "markdown",
   "id": "6412b5b0-9323-4e15-a720-f9724a0a023b",
   "metadata": {
    "editable": true,
    "slideshow": {
     "slide_type": ""
    },
    "tags": []
   },
   "source": [
    "---"
   ]
  },
  {
   "cell_type": "markdown",
   "id": "eb6ade7a-21c4-45f2-836b-dbd11d72f9d2",
   "metadata": {},
   "source": [
    "- 元组用 () 标识。内部元素用逗号隔开。\n",
    "- 元组不能增加、删除、修改元素，相当于只读列表。"
   ]
  },
  {
   "cell_type": "markdown",
   "id": "4144bcf7-6656-424d-82a2-1f5a1b3eaee9",
   "metadata": {},
   "source": [
    "#### 1.创建元组"
   ]
  },
  {
   "cell_type": "code",
   "execution_count": null,
   "id": "e26b9fcd-ac89-4a63-8b9f-bb35c9016412",
   "metadata": {},
   "outputs": [],
   "source": [
    "tup = ('physics', 'chemistry', 1997, 2000)"
   ]
  },
  {
   "cell_type": "markdown",
   "id": "186a3e9f-6898-45bd-a910-765e021688ba",
   "metadata": {},
   "source": [
    "#### 2.增加元素"
   ]
  },
  {
   "cell_type": "markdown",
   "id": "ee8b51e3-9a81-4af2-bb79-22445240d520",
   "metadata": {},
   "source": [
    "元组不能二次赋值，相当于只读列表。"
   ]
  },
  {
   "cell_type": "markdown",
   "id": "f7c288bf-fe0d-45f1-8297-5a3632cb53cf",
   "metadata": {},
   "source": [
    "#### 3.删除元素"
   ]
  },
  {
   "cell_type": "markdown",
   "id": "fabd8caa",
   "metadata": {},
   "source": [
    "元组中的元素值不允许删除"
   ]
  },
  {
   "cell_type": "code",
   "execution_count": null,
   "id": "01facbf8",
   "metadata": {},
   "outputs": [],
   "source": [
    "# 以下删除元组元素操作是非法的\n",
    "tup = ('physics', 'chemistry', 1997, 2000)\n",
    "try:\n",
    "    del tup[0]\n",
    "except Exception as e:\n",
    "    print(e)"
   ]
  },
  {
   "cell_type": "markdown",
   "id": "9539ed32-ff2c-45a7-8900-c979e66895b4",
   "metadata": {},
   "source": [
    "仅可以使用del语句来删除整个元组"
   ]
  },
  {
   "cell_type": "code",
   "execution_count": null,
   "id": "1c42c7f8-b12e-41d6-94ee-5fc4b4d0792a",
   "metadata": {},
   "outputs": [],
   "source": [
    "tup = ('physics', 'chemistry', 1997, 2000)\n",
    "del tup"
   ]
  },
  {
   "cell_type": "markdown",
   "id": "84eaaeec",
   "metadata": {},
   "source": [
    "#### 4.修改元素"
   ]
  },
  {
   "cell_type": "markdown",
   "id": "44c79992-a36e-4656-b588-fbdfd95eff9c",
   "metadata": {
    "jp-MarkdownHeadingCollapsed": true
   },
   "source": [
    "元组中的元素值是不允许修改的"
   ]
  },
  {
   "cell_type": "code",
   "execution_count": null,
   "id": "8ab15d49-3c36-431a-8b89-9fd41840cb23",
   "metadata": {
    "jp-MarkdownHeadingCollapsed": true
   },
   "outputs": [],
   "source": [
    "# 以下修改元组元素操作是非法的\n",
    "tup = ('physics', 'chemistry', 1997, 2000)\n",
    "\n",
    "try:\n",
    "    tup[0] = 100\n",
    "except Exception as e:\n",
    "    print(e)"
   ]
  },
  {
   "cell_type": "markdown",
   "id": "4b46318c-c5a6-4c79-bba0-59fcf500e9d1",
   "metadata": {},
   "source": [
    "但可以对元组进行连接组合（易错点）"
   ]
  },
  {
   "cell_type": "code",
   "execution_count": null,
   "id": "acbd7273",
   "metadata": {},
   "outputs": [],
   "source": [
    "# 如下实例:\n",
    "tup1 = (1, 2, 3)\n",
    "tup2 = (4, 5, 6)\n",
    "tup3 = tup1 + tup2    # (1, 2, 3, 4, 5, 6)          易错点、\n",
    "print(tup3)"
   ]
  },
  {
   "cell_type": "markdown",
   "id": "6cdd5c7e",
   "metadata": {},
   "source": [
    "#### 5.查找元素"
   ]
  },
  {
   "cell_type": "code",
   "execution_count": null,
   "id": "6f465d41",
   "metadata": {},
   "outputs": [],
   "source": [
    "# 元组可以使用下标索引来访问元组中的值\n",
    "tup = (1, 2, 3, 4, 5, 6, 7 )\n",
    "for i in range(len(tup)):\n",
    "    print(tup[i])\n",
    "\n",
    "for item in tup:\n",
    "    print(item)"
   ]
  },
  {
   "cell_type": "markdown",
   "id": "a3c1ec21-56da-439b-8dcb-98330ec87f51",
   "metadata": {},
   "source": [
    "#### 6. 列表转换为元组"
   ]
  },
  {
   "cell_type": "code",
   "execution_count": null,
   "id": "0e719846-54c0-4ef6-ac2a-8ea2bac5b0c2",
   "metadata": {},
   "outputs": [],
   "source": [
    "lst = [1, 2, 3, 4]\n",
    "tup = tuple(lst)\n",
    "print(tup)"
   ]
  },
  {
   "cell_type": "markdown",
   "id": "17985451",
   "metadata": {
    "editable": true,
    "slideshow": {
     "slide_type": ""
    },
    "tags": []
   },
   "source": [
    "### Python列表"
   ]
  },
  {
   "cell_type": "markdown",
   "id": "4d076186-4ae4-47a5-9592-a164aa93b039",
   "metadata": {
    "editable": true,
    "slideshow": {
     "slide_type": ""
    },
    "tags": []
   },
   "source": [
    "----------"
   ]
  },
  {
   "cell_type": "markdown",
   "id": "10da2249-51db-4a74-9090-98b9a791096a",
   "metadata": {},
   "source": [
    "列表的数据项不需要具有相同的类型"
   ]
  },
  {
   "cell_type": "code",
   "execution_count": null,
   "id": "1d94cd2a-af3f-4169-b0e7-c3a9f944573c",
   "metadata": {},
   "outputs": [],
   "source": [
    "# 获取每个元素的下标和元素值--enumerate\n",
    "nums = [1, 2, 3, 4, 5, 6, 7]\n",
    "for index, num in enumerate(nums): \n",
    "    print(index, num)"
   ]
  },
  {
   "cell_type": "code",
   "execution_count": null,
   "id": "3a1bd17f-47ba-456a-aa26-581e0e18c2bb",
   "metadata": {},
   "outputs": [],
   "source": [
    "# 获取二维数组行数和列数\n",
    "matrix = [[0, 0, 0, 0], \n",
    "          [0, 0, 0, 0], \n",
    "          [0, 0, 0, 0], \n",
    "          [0, 0, 0, 0], \n",
    "          [0, 0, 0, 0]]\n",
    "row = len(matrix)\n",
    "col = len(matrix[0])\n",
    "print(row,col)"
   ]
  },
  {
   "cell_type": "markdown",
   "id": "602f7ef6-902b-4167-9e1b-29638aaed178",
   "metadata": {},
   "source": [
    "#### 1.创建列表"
   ]
  },
  {
   "cell_type": "code",
   "execution_count": null,
   "id": "65d60a65-fe4b-4b95-86c8-50578a41940f",
   "metadata": {},
   "outputs": [],
   "source": [
    "#创建一维数组\n",
    "lst = []\n",
    "lst2 = [1, 2, 3, 4, 5, 6, 7]"
   ]
  },
  {
   "cell_type": "code",
   "execution_count": null,
   "id": "4ed3f071-b2fd-45f2-b7a1-475d88889687",
   "metadata": {},
   "outputs": [],
   "source": [
    "# 创建二维数组 \n",
    "# 方式一：使用循环\n",
    "rows = 5\n",
    "cols = 4\n",
    "array = []\n",
    "for i in range(rows):\n",
    "    row = []\n",
    "    for j in range(cols):\n",
    "        row.append(0)  # 或者使用其他值初始化\n",
    "    array.append(row)\n",
    "print(array)"
   ]
  },
  {
   "cell_type": "code",
   "execution_count": null,
   "id": "736ae8a7-431b-452f-a9a2-13c7a712de0a",
   "metadata": {},
   "outputs": [],
   "source": [
    "# 创建二维数组 \n",
    "# 方式二：使用列表推导式\n",
    "rows = 5\n",
    "cols = 4\n",
    "array = [[0 for _ in range(cols)] for _ in range(rows)]\n",
    "print(array)"
   ]
  },
  {
   "cell_type": "markdown",
   "id": "49b091b1-d804-41c8-88f5-d2c60b8810e9",
   "metadata": {},
   "source": [
    "#### 2.增加元素"
   ]
  },
  {
   "cell_type": "code",
   "execution_count": null,
   "id": "3ae27934-17dc-4953-a8ce-868040bcd1e5",
   "metadata": {},
   "outputs": [],
   "source": [
    "# 增加元素--append()\n",
    "lst = []\n",
    "\n",
    "lst.append('Google')\n",
    "\n",
    "print(lst)"
   ]
  },
  {
   "cell_type": "code",
   "execution_count": null,
   "id": "81738015",
   "metadata": {},
   "outputs": [],
   "source": [
    "# 增加元素--insert()\n",
    "lst = []\n",
    "\n",
    "index = 0\n",
    "item = 'Facebook'\n",
    "lst.insert(index, item)\n",
    "\n",
    "print(lst)"
   ]
  },
  {
   "cell_type": "markdown",
   "id": "66640364",
   "metadata": {},
   "source": [
    "#### 3.删除元素"
   ]
  },
  {
   "cell_type": "code",
   "execution_count": null,
   "id": "033777cf",
   "metadata": {},
   "outputs": [],
   "source": [
    "# 通过索引删除元素（只删除一个元素）\n",
    "lst = ['Facebook', 'Google']\n",
    "\n",
    "index = 1\n",
    "del lst[index]     # del语句可以删除整个列表或列表中的特定元素。如果要删除特定元素，需要使用其索引。\n",
    "\n",
    "print(lst)"
   ]
  },
  {
   "cell_type": "code",
   "execution_count": null,
   "id": "4c979f2c-1cdc-427a-8e9d-a57469186b10",
   "metadata": {},
   "outputs": [],
   "source": [
    "# 通过索引删除元素（只删除一个元素）\n",
    "lst = ['Facebook', 'Google']\n",
    "\n",
    "index = 1\n",
    "e = lst.pop(index)  # 通过索引删除元素，返回元素值。\n",
    "\n",
    "print(lst)"
   ]
  },
  {
   "cell_type": "code",
   "execution_count": null,
   "id": "8054a36a-3b4d-4b34-88bd-65d923720b66",
   "metadata": {},
   "outputs": [],
   "source": [
    "# 通过元素值删除元素，（只删除一个元素）\n",
    "lst = ['Facebook', 'Google', 'Google', 'Google', 'Google']\n",
    "\n",
    "e = 'Google'\n",
    "lst.remove(e)\n",
    "\n",
    "print(lst)"
   ]
  },
  {
   "cell_type": "code",
   "execution_count": null,
   "id": "5f77bb57-6d01-4aa8-bca2-13b827d8496d",
   "metadata": {},
   "outputs": [],
   "source": [
    "# 通过元素值删除元素，（删除多个元素）\n",
    "lst = ['Facebook', 'Google', 'Google', 'Google', 'Google']\n",
    "\n",
    "e = 'Google'\n",
    "lst = [i for i in lst if i != e]\n",
    "\n",
    "print(lst)"
   ]
  },
  {
   "cell_type": "markdown",
   "id": "d2fc6d06",
   "metadata": {},
   "source": [
    "#### 4.修改元素"
   ]
  },
  {
   "cell_type": "code",
   "execution_count": null,
   "id": "c049bdf9",
   "metadata": {},
   "outputs": [],
   "source": [
    "lst = ['Facebook', 'Google']\n",
    "\n",
    "index = 1\n",
    "lst[index] = 'value'\n",
    "\n",
    "print(lst)"
   ]
  },
  {
   "cell_type": "markdown",
   "id": "1b24ab00",
   "metadata": {},
   "source": [
    "#### 5.查找元素"
   ]
  },
  {
   "cell_type": "code",
   "execution_count": null,
   "id": "95420c83-29fd-4a3e-bd55-33bfa2b7cc9f",
   "metadata": {},
   "outputs": [],
   "source": [
    "d = [0, 1, 2, 3, 4, 5, 6, 7, 8, 9]\n",
    "value = lst[index]\n",
    "切片\n",
    "lst[1:] # 从第二个元素开始向后截取列表\n",
    "lst[:4] # 从第五个元素开始向前截取列表（不包含第五个元素）\n",
    "lst[1:4]\n",
    "lst[1:4:2] #Python 列表截取可以接收第三个参数，参数作用是截取的步长，在索引 1 到索引 4 的位置并设置为步长为 2（不包含索引 4 的元素）"
   ]
  },
  {
   "cell_type": "markdown",
   "id": "74701fe9-f99f-417d-a17b-b68384aaafd0",
   "metadata": {},
   "source": [
    "#### 6.列表切片"
   ]
  },
  {
   "cell_type": "code",
   "execution_count": null,
   "id": "909ae5e6",
   "metadata": {},
   "outputs": [],
   "source": [
    "lst = [0, 1, 2, 3, 4, 5, 6, 7, 8, 9]\n",
    "\n",
    "print(lst[1:]) # 从第二个元素开始向后截取列表（包含第二个元素）\n",
    "\n",
    "print(lst[:4]) # 从第五个元素开始向前截取列表（不包含第五个元素）\n",
    "\n",
    "print(lst[1:4]) # 截取第二个元素到第五个元素（包含第二个元素，不包含第五个元素）\n",
    "\n",
    "#Python 列表截取可以接收第三个参数，参数作用是截取的步长，在索引 1 到索引 4 的位置并设置为步长为 2（不包含索引 4 的元素）\n",
    "print(lst[1:4:2])"
   ]
  },
  {
   "cell_type": "markdown",
   "id": "e2909bc1",
   "metadata": {},
   "source": [
    "#### 列表常用函数"
   ]
  },
  {
   "cell_type": "code",
   "execution_count": null,
   "id": "01c31a5f-d2b6-4ae1-af26-83b089fe27c4",
   "metadata": {},
   "outputs": [],
   "source": [
    "len(list) # 列表元素个数\n",
    "max(list) # 返回列表元素最大值\n",
    "min(list) # 返回列表元素最小值\n",
    "\n",
    "list.append(obj) # 在列表末尾添加新的对象obj\n",
    "list.count(obj) # 统计某个元素obj在列表中出现的次数\n",
    "list.extend(seq) # 在列表末尾一次性追加另一个序列中的多个值（用新列表扩展原来的列表）\n",
    "list.index(obj) # 从列表中找出某个值obj第一个匹配项的索引位置\n",
    "list.insert(index, obj) # 将对象obj插入列表\n",
    "list.pop([index=-1]) # 移除列表中的一个元素（默认最后一个元素），并且返回该元素的值\n",
    "list.remove(obj) # 移除列表中某个值的第一个匹配项\n",
    "list.reverse() # 反向列表中元素\n",
    "list.sort(cmp=None, key=None, reverse=False)    #对原列表进行排序"
   ]
  },
  {
   "cell_type": "markdown",
   "id": "2ec44c37",
   "metadata": {
    "editable": true,
    "slideshow": {
     "slide_type": ""
    },
    "tags": []
   },
   "source": [
    "### Python字典"
   ]
  },
  {
   "cell_type": "markdown",
   "id": "3e1f9a46-4aca-4d78-8c24-8f9f8caf515c",
   "metadata": {
    "editable": true,
    "slideshow": {
     "slide_type": ""
    },
    "tags": []
   },
   "source": [
    "----------"
   ]
  },
  {
   "cell_type": "markdown",
   "id": "8447cee6-455e-40ee-9de0-1d4a161d602f",
   "metadata": {},
   "source": [
    "- dict 作为 Python 的关键字和内置函数，变量名不建议命名为 dict.\n",
    "- 键一般是唯一的，如果重复最后的一个键值对会替换前面的，值不需要唯一。\n",
    "- 键必须不可变，所以可以用数字，字符串或元组充当，所以用列表就不行        注意：元组可以作为键，列表不行\n"
   ]
  },
  {
   "cell_type": "markdown",
   "id": "95aa4e2e-e9d7-4bf5-918b-682056ee1480",
   "metadata": {
    "editable": true,
    "slideshow": {
     "slide_type": ""
    },
    "tags": []
   },
   "source": [
    "#### 1.创建字典"
   ]
  },
  {
   "cell_type": "code",
   "execution_count": null,
   "id": "9a224f4b-75c0-4c7f-bb7c-cde6496d183a",
   "metadata": {},
   "outputs": [],
   "source": [
    "# 创建空字典\n",
    "dt = {}"
   ]
  },
  {
   "cell_type": "code",
   "execution_count": null,
   "id": "af11c169-1890-4504-b52c-4c7cceeff0c1",
   "metadata": {},
   "outputs": [],
   "source": [
    "# 创建字典\n",
    "dt = {'a': 1, 'b': 2, 'b': '3'}\n",
    "\n",
    "print(dt)"
   ]
  },
  {
   "cell_type": "markdown",
   "id": "7c20ef5a-e5d0-4d66-8a99-18febadaeddf",
   "metadata": {},
   "source": [
    "#### 2.增加元素"
   ]
  },
  {
   "cell_type": "code",
   "execution_count": null,
   "id": "9aa440e0-3858-43ce-bdc0-0855203d7dcc",
   "metadata": {},
   "outputs": [],
   "source": [
    "# 方式 1：\n",
    "dt = {'a': 1, 'b': 2}\n",
    "\n",
    "dt['key'] = 'value' \n",
    "\n",
    "print(dt)"
   ]
  },
  {
   "cell_type": "code",
   "execution_count": null,
   "id": "b33680f0-0a18-4a61-aa5b-29f42afc001a",
   "metadata": {},
   "outputs": [],
   "source": [
    "# 方式 2：\n",
    "dt = {'a': 1, 'b': 2}\n",
    "\n",
    "dt.update({'key': 'value'})\n",
    "\n",
    "print(dt)"
   ]
  },
  {
   "cell_type": "markdown",
   "id": "7df861e1",
   "metadata": {},
   "source": [
    "#### 3.删除元素"
   ]
  },
  {
   "cell_type": "code",
   "execution_count": null,
   "id": "80778c4c-bb27-4593-8515-4d00198faf35",
   "metadata": {},
   "outputs": [],
   "source": [
    "# 方式一： pop(key[, default])   移除并返回字典中指定键的值，如果键不存在则返回默认值None。\n",
    "dt = {'a': 1, 'b': 2, 'c': 3}\n",
    "\n",
    "key = 100\n",
    "value = dt.pop(key, -999) # 移除并返回字典中指定键的值，如果键不存在则返回 -999。\n",
    "print(value)\n",
    "\n",
    "key = 'a'\n",
    "value = dt.pop(key, None)\n",
    "print(value)"
   ]
  },
  {
   "cell_type": "code",
   "execution_count": null,
   "id": "661c6759-7bc7-4807-9b09-144e4ebef4b1",
   "metadata": {},
   "outputs": [],
   "source": [
    "# 方式二： del\n",
    "dt = {'a': 1, 'b': 2, 'c': 3}\n",
    "\n",
    "key = 'a'\n",
    "del dt[key]     # 删除键是'key'的条目\n",
    "\n",
    "print(dt)"
   ]
  },
  {
   "cell_type": "code",
   "execution_count": null,
   "id": "facbe508-4b6a-43f6-9d11-c671eabd0f3e",
   "metadata": {},
   "outputs": [],
   "source": [
    "# 清空字典\n",
    "# 方式一： dict.clear()\n",
    "dt = {'a': 1, 'b': 2, 'c': 3}\n",
    "\n",
    "dt.clear()      # 清空字典所有条目\n",
    "\n",
    "print(dt)"
   ]
  },
  {
   "cell_type": "code",
   "execution_count": null,
   "id": "23aa6e47-6353-464c-924d-601035df217d",
   "metadata": {},
   "outputs": [],
   "source": [
    "# 清空字典\n",
    "dt = {'a': 1, 'b': 2, 'c': 3}\n",
    "\n",
    "del dt          # 删除字典\n",
    "\n",
    "try:\n",
    "    print(dt)\n",
    "except Exception as e:\n",
    "    print(f'发生错误：{e}')"
   ]
  },
  {
   "cell_type": "markdown",
   "id": "a7767982",
   "metadata": {},
   "source": [
    "#### 4.修改元素"
   ]
  },
  {
   "cell_type": "markdown",
   "id": "33a17ea8-c6dd-4f8b-869e-0ade41d5ec34",
   "metadata": {},
   "source": [
    "与添加元素一模一样"
   ]
  },
  {
   "cell_type": "code",
   "execution_count": null,
   "id": "dd15fc0f-f904-4ab0-9d1d-ece02a72f573",
   "metadata": {},
   "outputs": [],
   "source": [
    "# 方式 1：\n",
    "dt = {'a': 1, 'b': 2}\n",
    "\n",
    "dt['a'] = 'value' \n",
    "\n",
    "print(dt)"
   ]
  },
  {
   "cell_type": "code",
   "execution_count": null,
   "id": "c7147aad-2840-4b03-93f0-e46d26cfbe86",
   "metadata": {},
   "outputs": [],
   "source": [
    "# 方式 2：\n",
    "dt = {'a': 1, 'b': 2}\n",
    "\n",
    "dt.update({'a': 'value'})\n",
    "\n",
    "print(dt)"
   ]
  },
  {
   "cell_type": "markdown",
   "id": "c795034d",
   "metadata": {},
   "source": [
    "#### 5.查找元素"
   ]
  },
  {
   "cell_type": "code",
   "execution_count": null,
   "id": "0976c444-9fc4-4f23-a1a4-efcfa22e404a",
   "metadata": {},
   "outputs": [],
   "source": [
    "value = dict['key'] # 如果用字典里没有的键访问数据，会报错\n",
    "dict.get('key', default=None)     #根据key找对应value，找不到这返回default的值\n",
    "dict.keys()      # 输出所有键   输出为[key1, key2,……]\n",
    "dict.values()    # 输出所有值   输出为[value1, value2,……]"
   ]
  },
  {
   "cell_type": "markdown",
   "id": "4951ab09-c131-4ec8-b0c8-c6c4de9556a6",
   "metadata": {},
   "source": [
    "#### 字典常用函数"
   ]
  },
  {
   "cell_type": "code",
   "execution_count": null,
   "id": "9a93bd59-ef83-400a-89a6-048b7391c036",
   "metadata": {},
   "outputs": [],
   "source": [
    "len(dict) # 计算字典元素个数，即键的总数。\n",
    "\n",
    "dict.copy() # 返回一个字典的浅复制\n",
    "\n",
    "dict.has_key(key) # 如果键在字典dict里返回true，否则返回false。Python3 不支持。\n",
    "\n",
    "dict.fromkeys(seq[, val]) # 创建一个新字典，以序列 seq 中元素做字典的键，val 为字典所有键对应的初始值\n",
    "\n",
    "dict.items() # 以列表返回可遍历的(键, 值) 元组数组\n",
    "dict.keys() # 以列表返回一个字典所有的键\n",
    "dict.values() # 以列表返回字典中的所有值\n",
    "\n",
    "dict.get(key, default=None) # 返回指定键的值，如果值不在字典中返回default值\n",
    "dict.setdefault(key, default=None) # 和get()类似, 但如果键不存在于字典中，将会添加键并将值设为default\n",
    "\n",
    "dict.update(dict2) # 把字典dict2的键/值对更新到dict里\n",
    "dict.pop(key[,default]) # 删除字典给定键 key 所对应的值，返回值为被删除的值。key值必须给出。 否则，返回default值。\n",
    "dict.popitem() # 返回并删除字典中的最后一对键和值。\n",
    "dict.clear() # 删除字典内所有元素"
   ]
  },
  {
   "cell_type": "markdown",
   "id": "f31455e9",
   "metadata": {
    "editable": true,
    "slideshow": {
     "slide_type": ""
    },
    "tags": []
   },
   "source": [
    "### Python双端队列"
   ]
  },
  {
   "cell_type": "markdown",
   "id": "c3cd7005-777b-47b6-87b9-6741ebde3201",
   "metadata": {
    "editable": true,
    "slideshow": {
     "slide_type": ""
    },
    "tags": []
   },
   "source": [
    "-------------"
   ]
  },
  {
   "cell_type": "markdown",
   "id": "699b53c5-d41e-4f17-b82b-5c61fae5a742",
   "metadata": {},
   "source": [
    "append和pop操作的是尾部（右边），appendleft和popleft操作的是头部（左边），别搞混啦"
   ]
  },
  {
   "cell_type": "markdown",
   "id": "2f88d712",
   "metadata": {},
   "source": [
    "#### 1.创建双端队列"
   ]
  },
  {
   "cell_type": "code",
   "execution_count": null,
   "id": "435e31f0",
   "metadata": {},
   "outputs": [],
   "source": [
    "from collections import deque\n",
    "# 创建一个空的deque\n",
    "dq = deque()"
   ]
  },
  {
   "cell_type": "markdown",
   "id": "6163e891-a562-4341-a4d1-6b009787aa04",
   "metadata": {},
   "source": [
    "#### 2.增加元素"
   ]
  },
  {
   "cell_type": "markdown",
   "id": "6d6a7e29-f135-4ceb-a29a-77b0a39e32ef",
   "metadata": {},
   "source": [
    "单个元素的添加"
   ]
  },
  {
   "cell_type": "code",
   "execution_count": null,
   "id": "c145513d",
   "metadata": {},
   "outputs": [],
   "source": [
    "# 头部（左侧）添加元素\n",
    "dq = deque(['a', 'b'])\n",
    "dq.appendleft('c')\n",
    "print(\"输出结果：\",end='')\n",
    "print(dq)"
   ]
  },
  {
   "cell_type": "code",
   "execution_count": null,
   "id": "1f68af2e-1707-4eab-9d43-ec8e6a1f304d",
   "metadata": {},
   "outputs": [],
   "source": [
    "# 尾部（右侧）添加元素\n",
    "dq = deque()\n",
    "dq.append('a')\n",
    "dq.append('b')\n",
    "print(\"输出结果：\",end='')\n",
    "print(dq)"
   ]
  },
  {
   "cell_type": "markdown",
   "id": "e8298ea3-446b-4305-a094-4f4fa86e7c56",
   "metadata": {},
   "source": [
    "多个元素的批量添加"
   ]
  },
  {
   "cell_type": "code",
   "execution_count": null,
   "id": "2ec91b96-84ff-4209-a5c3-f3c356321a99",
   "metadata": {},
   "outputs": [],
   "source": [
    "# 头部（左侧）批量添加（注意顺序会逆序插入）\n",
    "dq = deque([0, 1, 2, 3, 4, 5, 6, 7, 8, 9])\n",
    "dq.extendleft([-2, -1]) \n",
    "print(\"输出结果：\",end='')\n",
    "print(dq)"
   ]
  },
  {
   "cell_type": "code",
   "execution_count": null,
   "id": "64087736-c176-4656-bdd3-6a722cadcb94",
   "metadata": {},
   "outputs": [],
   "source": [
    "# 尾部（右侧）批量添加\n",
    "dq = deque([0, 1, 2, 3, 4, 5, 6])\n",
    "dq.extend([7, 8, 9])\n",
    "print(\"输出结果：\",end='')\n",
    "print(dq)"
   ]
  },
  {
   "cell_type": "markdown",
   "id": "7abf14bd",
   "metadata": {},
   "source": [
    "#### 3.删除元素"
   ]
  },
  {
   "cell_type": "code",
   "execution_count": null,
   "id": "17e5b5d1-0d0b-42a2-873c-173b084e53ec",
   "metadata": {},
   "outputs": [],
   "source": [
    "# 头部（左侧）移除元素\n",
    "dq = deque([0, 1, 2, 3, 4, 5, 6])\n",
    "left_item = dq.popleft()\n",
    "print(left_item)\n",
    "print(dq)"
   ]
  },
  {
   "cell_type": "code",
   "execution_count": null,
   "id": "d76f7342-d438-4eaa-ad20-30f59a9d36e5",
   "metadata": {},
   "outputs": [],
   "source": [
    "# 尾部（右侧）移除元素\n",
    "dq = deque([0, 1, 2, 3, 4, 5, 6])\n",
    "right_item = dq.pop()\n",
    "print(right_item)\n",
    "print(dq)"
   ]
  },
  {
   "cell_type": "code",
   "execution_count": null,
   "id": "1fc1b0d0-4c26-4b06-ae8a-e1f733203b17",
   "metadata": {},
   "outputs": [],
   "source": [
    "# 删除指定元素（如果存在多个，仅删除第一个）\n",
    "dq = deque([1, 2, 3, 3, 4])\n",
    "dq.remove(3)  # 删除值为 3 的元素（如果存在多个，仅删除第一个）\n",
    "print(dq)"
   ]
  },
  {
   "cell_type": "code",
   "execution_count": null,
   "id": "f7c1ae54-635f-46cf-aaa9-a9a9f65ab136",
   "metadata": {},
   "outputs": [],
   "source": [
    "# 清空双端队列\n",
    "dq = deque([1, 2, 3, 4, 5])\n",
    "dq.clear()\n",
    "print(dq)"
   ]
  },
  {
   "cell_type": "markdown",
   "id": "ee76959a",
   "metadata": {},
   "source": [
    "#### 4.修改元素"
   ]
  },
  {
   "cell_type": "code",
   "execution_count": null,
   "id": "bc3b8a4f-aed3-4d13-9479-9fce6febe6c5",
   "metadata": {},
   "outputs": [],
   "source": [
    "dq = deque([1, 2, 3, 3, 4])\n",
    "dq[2] = 100  # 修改索引 2 位置的元素\n",
    "print(dq)"
   ]
  },
  {
   "cell_type": "markdown",
   "id": "95d8f300",
   "metadata": {},
   "source": [
    "#### 5.查找元素"
   ]
  },
  {
   "cell_type": "code",
   "execution_count": null,
   "id": "c8257514",
   "metadata": {},
   "outputs": [],
   "source": [
    "dq = deque([1, 2, 3, 3, 4])\n",
    "head = dq[0] # 表示头部元素\n",
    "rear = dq[-1] # 表示尾部元素\n",
    "print(dq)\n",
    "print(head)\n",
    "print(rear)\n",
    "\n",
    "# 插入元素后再查找\n",
    "dq.appendleft(0)\n",
    "dq.append(5)\n",
    "head = dq[0] # 表示头部元素\n",
    "rear = dq[-1] # 表示尾部元素\n",
    "print('两端插入元素后')\n",
    "print(dq)\n",
    "print(head)\n",
    "print(rear)"
   ]
  },
  {
   "cell_type": "markdown",
   "id": "56c51962",
   "metadata": {},
   "source": [
    "#### 6.旋转元素"
   ]
  },
  {
   "cell_type": "code",
   "execution_count": null,
   "id": "c9aa9b74-3e50-4cd9-a675-de0a4f357043",
   "metadata": {},
   "outputs": [],
   "source": [
    "# 往右转两步\n",
    "dq = deque([1, 2, 3, 4, 5])\n",
    "dq.rotate(2)\n",
    "print(dq)  # deque([4, 5, 1, 2, 3])"
   ]
  },
  {
   "cell_type": "code",
   "execution_count": null,
   "id": "6cdf97a8-f000-4dc6-917d-0d945bc6cf93",
   "metadata": {},
   "outputs": [],
   "source": [
    "# 往左转三步\n",
    "dq = deque([1, 2, 3, 4, 5])\n",
    "dq.rotate(-3)\n",
    "print(dq)  # deque([2, 3, 4, 5, 1])"
   ]
  },
  {
   "cell_type": "code",
   "execution_count": null,
   "id": "9bd0e26f",
   "metadata": {},
   "outputs": [],
   "source": [
    "# 翻转双端队列\n",
    "dq = deque([0, 1, 2, 3, 4, 5, 6, 7, 8])\n",
    "dq.reverse()\n",
    "print(dq)"
   ]
  },
  {
   "cell_type": "markdown",
   "id": "956f7997",
   "metadata": {
    "editable": true,
    "slideshow": {
     "slide_type": ""
    },
    "tags": []
   },
   "source": [
    "### Python集合"
   ]
  },
  {
   "cell_type": "markdown",
   "id": "31731472-65ec-45c6-9159-c914a7508c85",
   "metadata": {
    "editable": true,
    "slideshow": {
     "slide_type": ""
    },
    "tags": []
   },
   "source": [
    "-----------"
   ]
  },
  {
   "cell_type": "markdown",
   "id": "1f448c32-fa03-486b-8a7a-6cd35ef44ffa",
   "metadata": {},
   "source": [
    "没有重复元素"
   ]
  },
  {
   "cell_type": "markdown",
   "id": "4b5ae86e-cef5-4aa5-87c9-6a1a2e681b0e",
   "metadata": {},
   "source": [
    "#### 1.创建集合"
   ]
  },
  {
   "cell_type": "code",
   "execution_count": null,
   "id": "5059d05f",
   "metadata": {},
   "outputs": [],
   "source": [
    "#1.用{}创建set集合\n",
    "person ={\"student\",\"teacher\",\"babe\",123,321,123} #同样各种类型嵌套,可以赋值重复数据，但是存储会去重\n",
    "print(person) #但是显示出来则是去重的   输出：  {321, 'teacher', 'student', 'babe', 123}"
   ]
  },
  {
   "cell_type": "code",
   "execution_count": null,
   "id": "ba133a1b-8478-4611-98db-3ad29465f0f8",
   "metadata": {},
   "outputs": [],
   "source": [
    "#2.空set集合用set()函数表示\n",
    "person1 = set() #表示空set，不能用person1={}"
   ]
  },
  {
   "cell_type": "code",
   "execution_count": null,
   "id": "2a80df26-45b8-4b6c-9c5c-eb003d01f0bd",
   "metadata": {},
   "outputs": [],
   "source": [
    "#3.用set()函数创建set集合\n",
    "person2 = set((\"hello\",\"jerry\",133,11,133,\"jerru\")) #只能传入一个参数，可以是list,tuple等 类型\n",
    "print(len(person2)) # 输出： 5\n",
    "print(person2)  # 输出： {133, 'jerry', 11, 'jerru', 'hello'}"
   ]
  },
  {
   "cell_type": "markdown",
   "id": "fba9143d",
   "metadata": {},
   "source": [
    "#### 2.增加元素"
   ]
  },
  {
   "cell_type": "code",
   "execution_count": null,
   "id": "f7f17528-577c-4ce3-9a18-e1716e4d1eb2",
   "metadata": {},
   "outputs": [],
   "source": [
    "add()不会拆分；update()会拆分\n",
    "person ={\"student\",\"teacher\",\"babe\",123,321,123}\n",
    "person.add(\"student\") #如果元素已经存在，则不报错，也不会添加,不会将字符串拆分成多个元素，区别update\n",
    "print(person)   # 输出：{321, 'babe', 'teacher', 'student', 123}\n",
    "person.add((1,23,\"hello\")) #可以添加元组，但不能是list\n",
    "print(person)   # 输出： {(1, 23, 'hello'), 321, 'babe', 'teacher', 'student', 123}"
   ]
  },
  {
   "cell_type": "code",
   "execution_count": null,
   "id": "6f8a5e7e-84bd-4a03-a3b4-b8c48de81774",
   "metadata": {},
   "outputs": [],
   "source": [
    "person.update((1,3)) #可以使用update添加一些元组列表，字典等。但不能是字符串，否则会拆分\n",
    "print(person)   # 输出：{321, 1, 3, 'teacher', (1, 23, 'hello'), 'babe', 'student', 123}\n",
    "person.update(\"abc\")\n",
    "print(person)  #会将字符串拆分成a,b，c三个元素    输出： {321, 1, 3, 'b', 'c', 'teacher', (1, 23, 'hello'), 'a', 'babe', 'student', 123}"
   ]
  },
  {
   "cell_type": "markdown",
   "id": "665da796",
   "metadata": {},
   "source": [
    "#### 3.删除元素"
   ]
  },
  {
   "cell_type": "code",
   "execution_count": null,
   "id": "c3e51a93-aaaf-4121-8636-a2319b91efb0",
   "metadata": {},
   "outputs": [],
   "source": [
    "person.remove(\"student\")#按元素去删除\n",
    "print(person)  # 如果不存在 ，会报错。"
   ]
  },
  {
   "cell_type": "code",
   "execution_count": null,
   "id": "f6ebb848-06dd-4fa1-9541-7b6818fc764c",
   "metadata": {},
   "outputs": [],
   "source": [
    "person.discard(\"student\")#功能和remove一样，好处是没有的话，不会报错\n",
    "person.pop() #在list里默认删除最后一个，在set里随机删除一个。"
   ]
  },
  {
   "cell_type": "code",
   "execution_count": null,
   "id": "96f6f533-a45c-4874-afd7-299a9557df4c",
   "metadata": {},
   "outputs": [],
   "source": [
    "# 直接清空set\n",
    "person.clear()"
   ]
  },
  {
   "cell_type": "markdown",
   "id": "d95561fa",
   "metadata": {},
   "source": [
    "#### 4.修改元素"
   ]
  },
  {
   "cell_type": "markdown",
   "id": "1074ad49-1e4f-45e4-9356-7b9f6cf821b2",
   "metadata": {},
   "source": [
    "更新set中某个元素,因为是无序的，所以不能用角标。\n",
    "一般更新都是使用remove,然后在add。\n"
   ]
  },
  {
   "cell_type": "markdown",
   "id": "d830229c",
   "metadata": {},
   "source": [
    "#### 5.查找元素"
   ]
  },
  {
   "cell_type": "code",
   "execution_count": null,
   "id": "f796fc0c-8097-4689-95db-d37a77754416",
   "metadata": {},
   "outputs": [],
   "source": [
    "# 查询是否存在，无法返回索引，使用in判断\n",
    "if \"teacher\" in person:\n",
    "    print(\"true\")\n",
    "else:\n",
    "    print(\"不存在\")"
   ]
  },
  {
   "cell_type": "markdown",
   "id": "dab9a3b3-332a-4fe6-821e-d42dc6fb8d70",
   "metadata": {},
   "source": [
    "#### 6.其他操作"
   ]
  },
  {
   "cell_type": "markdown",
   "id": "2cf77a7e",
   "metadata": {},
   "source": [
    "交集∩"
   ]
  },
  {
   "cell_type": "code",
   "execution_count": null,
   "id": "c73156af",
   "metadata": {},
   "outputs": [],
   "source": [
    "set1 & set2"
   ]
  },
  {
   "cell_type": "markdown",
   "id": "e47ec945",
   "metadata": {},
   "source": [
    "并集∪"
   ]
  },
  {
   "cell_type": "code",
   "execution_count": null,
   "id": "9e46f947",
   "metadata": {},
   "outputs": [],
   "source": [
    "set1 | set2"
   ]
  },
  {
   "cell_type": "markdown",
   "id": "81f5a1db",
   "metadata": {},
   "source": [
    "差集"
   ]
  },
  {
   "cell_type": "code",
   "execution_count": null,
   "id": "7d1a81d7",
   "metadata": {},
   "outputs": [],
   "source": [
    "set1 - set2"
   ]
  },
  {
   "cell_type": "markdown",
   "id": "0a27bba7",
   "metadata": {},
   "source": [
    "对称差  获取两个集合中不重叠的元素。"
   ]
  },
  {
   "cell_type": "code",
   "execution_count": null,
   "id": "435ec380",
   "metadata": {},
   "outputs": [],
   "source": [
    "set1 ^ set2"
   ]
  },
  {
   "cell_type": "markdown",
   "id": "bad7a606",
   "metadata": {},
   "source": [
    "### math模块"
   ]
  },
  {
   "cell_type": "code",
   "execution_count": null,
   "id": "58bc1322-b1f9-48d0-9343-5a4cd5f09a4a",
   "metadata": {},
   "outputs": [],
   "source": [
    "import math\n",
    "math.abs(x)  # 返回数字的绝对值，如abs(-10) 返回 10\n",
    "math.ceil(x) # 返回数字的上入整数，如math.ceil(4.1) 返回 5\n",
    "math.exp(x)\t# 返回e的x次幂(ex),如math.exp(1) 返回2.718281828459045\n",
    "math.floor(x)\t# 返回数字的下舍整数，如math.floor(4.9)返回 4\n",
    "math.log(x)\t# 如math.log(math.e)返回1.0,math.log(100,10)返回2.0\n",
    "math.log10(x)\t# 返回以10为基数的x的对数，如math.log10(100)返回 2.0\n",
    "math.max(x1, x2,...)\t# 返回给定参数的最大值，参数可以为序列。\n",
    "math.min(x1, x2,...)\t# 返回给定参数的最小值，参数可以为序列。\n",
    "math.modf(x)\t# 返回x的整数部分与小数部分，两部分的数值符号与x相同，整数部分以浮点型表示。\n",
    "math.pow(x, y)\t# x**y 运算后的值。\n",
    "math.round(x [,n])\t# 返回浮点数x的四舍五入值，如给出n值，则代表舍入到小数点后的位数。\n",
    "math.sqrt(x)\t# 返回数字x的平方根\n",
    "\n",
    "math.choice(seq)\t# 从序列的元素中随机挑选一个元素，比如random.choice(range(10))，从0到9中随机挑选一个整数。\n",
    "math.randrange ([start,] stop [,step])\t# 从指定范围内，按指定基数递增的集合中获取一个随机数，基数默认值为 1\n",
    "math.random()\t# 随机生成下一个实数，它在[0,1)范围内。\n",
    "math.seed([x])\t# 改变随机数生成器的种子seed。如果你不了解其原理，你不必特别去设定seed，Python会帮你选择seed。\n",
    "math.shuffle(list)\t# 将序列的所有元素随机排序\n",
    "math.uniform(x, y)\t# 随机生成下一个实数，它在[x,y]范围内。"
   ]
  },
  {
   "cell_type": "markdown",
   "id": "80a99141-9533-4f01-a3fe-df556df3a311",
   "metadata": {},
   "source": [
    "### 代数\n",
    "- 代数的核心思想 是用符号（变量）代替数，进行方程求解和数学运算。\n",
    "- 汉语中的“代数” 是从西方数学翻译而来的，意思是用符号（变量）代替数值进行运算，所以称为“代数”。"
   ]
  },
  {
   "cell_type": "markdown",
   "id": "af5a5665-af57-4e14-896a-d2ab73e62864",
   "metadata": {},
   "source": [
    "### 泰勒级数\n",
    "- 使用泰勒级数近似计算 f(x) 的值"
   ]
  },
  {
   "cell_type": "code",
   "execution_count": null,
   "id": "0b651f31-8abd-450c-a903-d6241b1f43e4",
   "metadata": {},
   "outputs": [],
   "source": [
    "import math\n",
    "import numpy as np\n",
    "import sympy as sp\n",
    "\n",
    "def taylor_expansion(f, a, n, x_val):\n",
    "    \"\"\" 使用泰勒级数近似计算 f(x) 在 x=a 附近的值 \"\"\"\n",
    "    \n",
    "    # 1. 定义符号变量 x（SymPy 用于符号计算）\n",
    "    x = sp.Symbol('x')  \n",
    "    \n",
    "    # 2. 将输入函数 f(x) 转换为 sympy 表达式\n",
    "    f_sym = f(x)  \n",
    "    \n",
    "    # 3. 初始化泰勒展开的结果\n",
    "    result = 0  \n",
    "\n",
    "    # 4. 计算 0 到 n-1 阶的泰勒展开\n",
    "    for i in range(n):  \n",
    "        # 4.1 计算 f(x) 的 i 阶导数，并在 x=a 处求值\n",
    "        derivative = sp.diff(f_sym, x, i).subs(x, a)  \n",
    "        \n",
    "        # 4.2 计算泰勒展开的第 i 项\n",
    "        term = (derivative / math.factorial(i)) * (x_val - a) ** i  \n",
    "        \n",
    "        # 4.3 将该项累加到最终结果\n",
    "        result += term  \n",
    "\n",
    "    # 5. 返回计算后的近似值，并转换为 float 以兼容 NumPy\n",
    "    return float(result)  \n",
    "\n",
    "# 测试 e^x 在 x=0 处的 5 阶展开，估算 e^0.5\n",
    "f = lambda x: sp.exp(x)  # 定义 e^x\n",
    "approx_value = taylor_expansion(f, 0, 5, 0.5)\n",
    "\n",
    "# 输出计算结果\n",
    "print(f\"泰勒展开近似值: {approx_value}\")\n",
    "print(f\"e^0.5 的真实值: {np.exp(0.5)}\")  # 对比真实值"
   ]
  },
  {
   "cell_type": "markdown",
   "id": "131f6377",
   "metadata": {},
   "source": [
    "### 输入输出 两数求和"
   ]
  },
  {
   "cell_type": "code",
   "execution_count": null,
   "id": "075aa233-53ef-4c02-a8f0-ffc0e7b0d670",
   "metadata": {},
   "outputs": [],
   "source": [
    "import sys\n",
    "line = sys.stdin.readline().strip()\n",
    "array = line.split()\n",
    "print(int(array[0]) + int(array[1]))"
   ]
  },
  {
   "cell_type": "markdown",
   "id": "3aba99e3",
   "metadata": {},
   "source": [
    "### 查找算法"
   ]
  },
  {
   "cell_type": "markdown",
   "id": "03fd6ff2-14c1-4743-8083-62981b239923",
   "metadata": {},
   "source": [
    "-----------"
   ]
  },
  {
   "cell_type": "markdown",
   "id": "f305d5b0-f488-4c17-9ab9-a3fd24afa8ac",
   "metadata": {},
   "source": [
    "#### 简单查找\n",
    "- 时间复杂度：O(n)"
   ]
  },
  {
   "cell_type": "code",
   "execution_count": null,
   "id": "0c84281b-0cc8-42a8-815f-016129842e64",
   "metadata": {},
   "outputs": [],
   "source": [
    "def simple_search(lst, e):\n",
    "    for index, item in enumerate(lst):\n",
    "        if item == e:\n",
    "            return index\n",
    "    return None"
   ]
  },
  {
   "cell_type": "markdown",
   "id": "a5d952c9",
   "metadata": {},
   "source": [
    "#### 二分查找\n",
    "- 要求列表有序\n",
    "- 时间复杂度：O(logn)"
   ]
  },
  {
   "cell_type": "code",
   "execution_count": null,
   "id": "3acac0dc-69a7-462d-ae49-d482b709d4fd",
   "metadata": {},
   "outputs": [],
   "source": [
    "def binary_search(lst, e):\n",
    "    low = 0\n",
    "    high = len(lst) - 1\n",
    "    while low <= high:\n",
    "        cur = (low + high) // 2\n",
    "        if lst[cur] == e:\n",
    "            return cur\n",
    "        elif lst[cur] > e:\n",
    "            high = cur - 1\n",
    "        elif lst[cur] < e:\n",
    "            low = cur + 1\n",
    "    return None"
   ]
  },
  {
   "cell_type": "markdown",
   "id": "3977feb6",
   "metadata": {},
   "source": [
    "#### 平衡二叉树查找"
   ]
  },
  {
   "cell_type": "code",
   "execution_count": null,
   "id": "ac40adea",
   "metadata": {},
   "outputs": [],
   "source": [
    "\n",
    "\n"
   ]
  },
  {
   "cell_type": "markdown",
   "id": "2ab819fb",
   "metadata": {},
   "source": [
    "#### 哈希表查找"
   ]
  },
  {
   "cell_type": "code",
   "execution_count": null,
   "id": "02ef864c",
   "metadata": {},
   "outputs": [],
   "source": [
    "\n",
    "\n"
   ]
  },
  {
   "cell_type": "markdown",
   "id": "998a971f-c2a2-4f99-a7fb-2261c4269bc7",
   "metadata": {},
   "source": [
    "### 排序算法"
   ]
  },
  {
   "cell_type": "markdown",
   "id": "060b3aa5-a618-46d3-8ae9-c949180c4ce5",
   "metadata": {},
   "source": [
    "---------"
   ]
  },
  {
   "cell_type": "markdown",
   "id": "eb112242",
   "metadata": {},
   "source": [
    "#### 选择排序\n",
    "- 平均时间复杂度：O(n^2)\n",
    "- 最坏情况：O(n^2)\n",
    "- 最好情况：O(n^2)"
   ]
  },
  {
   "cell_type": "code",
   "execution_count": null,
   "id": "c1e869a3",
   "metadata": {},
   "outputs": [],
   "source": [
    "def biggest(lst):\n",
    "    value = lst[0]\n",
    "    index = 0\n",
    "    for i in range(len(lst)):\n",
    "        if value < lst[i]:\n",
    "            value = lst[i]\n",
    "            index = i\n",
    "    lst.pop(index)\n",
    "    return lst, value\n",
    "\n",
    "def selection_sort(lst):\n",
    "    sorted_lst = []\n",
    "    while lst != []:\n",
    "        list, e = biggest(lst)\n",
    "        sorted_lst.append(e)\n",
    "    return sorted_lst"
   ]
  },
  {
   "cell_type": "markdown",
   "id": "82e8cf72",
   "metadata": {},
   "source": [
    "#### 插入排序"
   ]
  },
  {
   "cell_type": "code",
   "execution_count": null,
   "id": "27fca39f",
   "metadata": {},
   "outputs": [],
   "source": [
    "\n",
    "\n"
   ]
  },
  {
   "cell_type": "markdown",
   "id": "0895ea19",
   "metadata": {},
   "source": [
    "#### 冒泡排序"
   ]
  },
  {
   "cell_type": "code",
   "execution_count": null,
   "id": "61efc9a0",
   "metadata": {},
   "outputs": [],
   "source": [
    "\n",
    "\n"
   ]
  },
  {
   "cell_type": "markdown",
   "id": "4d251423",
   "metadata": {},
   "source": [
    "#### 希尔排序"
   ]
  },
  {
   "cell_type": "code",
   "execution_count": null,
   "id": "a87f460e",
   "metadata": {},
   "outputs": [],
   "source": [
    "\n",
    "\n"
   ]
  },
  {
   "cell_type": "markdown",
   "id": "4acdb3ae",
   "metadata": {},
   "source": [
    "#### 基数排序"
   ]
  },
  {
   "cell_type": "code",
   "execution_count": null,
   "id": "a2b54c7b",
   "metadata": {},
   "outputs": [],
   "source": [
    "\n",
    "\n"
   ]
  },
  {
   "cell_type": "markdown",
   "id": "d48e8334",
   "metadata": {},
   "source": [
    "#### 快速排序\n",
    "- 平均时间复杂度：O(nlogn)\n",
    "- 最坏情况：O(n^2) 处理的列表本身有序且基准值总选择为列表第一项\n",
    "- 最好情况：O(nlogn) 处理的列表本身有序且基准值总选择为列表第len(lst)//2项\n",
    "- 实现快速排序时，请随机地选择用作基准值的元素。\n",
    "- 大O表示法中的常量有时候事关重大，这就是快速排序比合并排序快的原因所在。"
   ]
  },
  {
   "cell_type": "code",
   "execution_count": null,
   "id": "29a04355",
   "metadata": {},
   "outputs": [],
   "source": [
    "def quick_sort(lst):\n",
    "    if len(lst) < 2:\n",
    "        return lst\n",
    "    else:\n",
    "        pivot = lst[0]\n",
    "        less = []\n",
    "        greater = []\n",
    "        for i in range(1, len(lst)):\n",
    "            if lst[i] <= pivot:\n",
    "                less.append(lst[i])\n",
    "            else:\n",
    "                greater.append(lst[i])\n",
    "        return quick_sort(less) + [pivot] + quick_sort(greater)"
   ]
  },
  {
   "cell_type": "markdown",
   "id": "8a2773f5",
   "metadata": {},
   "source": [
    "#### 归并排序\n",
    "- 平均时间复杂度：O(nlogn)\n",
    "- 最坏情况：O(nlogn)\n",
    "- 最好情况：O(nlogn)"
   ]
  },
  {
   "cell_type": "code",
   "execution_count": null,
   "id": "d7eb2ecd",
   "metadata": {},
   "outputs": [],
   "source": [
    "def merge(lst1, lst2):\n",
    "    if len(lst1) == 0:\n",
    "        return [lst2[0]] \n",
    "    elif len(lst2) == 0:\n",
    "        return [lst1[0]] \n",
    "    else:\n",
    "        lst = []\n",
    "        i = 0\n",
    "        j = 0\n",
    "        while i < len(lst1) and j < len(lst2):\n",
    "            if lst1[i] <= lst2[j]:\n",
    "                lst.append(lst1[i])\n",
    "                i += 1\n",
    "            else:\n",
    "                lst.append(lst2[j])\n",
    "                j += 1\n",
    "        if i == len(lst1):\n",
    "            while j < len(lst2):\n",
    "                lst.append(lst2[j])\n",
    "                j += 1\n",
    "        if j == len(lst2):\n",
    "            while i < len(lst1):\n",
    "                lst.append(lst1[i])\n",
    "                i += 1\n",
    "        return lst     \n",
    "        \n",
    "def merge_sort(lst):\n",
    "    lst1, lst2 = lst[0:len(lst)//2], lst[len(lst)//2:]\n",
    "    if len(lst1) == 0 or len(lst2) == 0:\n",
    "        return [lst2[0]] if len(lst1) == 0 else [lst1[0]]\n",
    "    elif len(lst1) == 1 and len(lst2) == 1:\n",
    "        return [lst1[0], lst2[0]] if lst1[0] <= lst2[0] else [lst2[0], lst1[0]]\n",
    "    else:\n",
    "        return merge(merge_sort(lst1), merge_sort(lst2))\n",
    "\n",
    "lst = [1,25,6,7,8,9,3,4,5,6,7,8,9]\n",
    "sorted_lst = merge_sort(lst)\n",
    "print(sorted_lst)"
   ]
  },
  {
   "cell_type": "markdown",
   "id": "af7a70f9",
   "metadata": {},
   "source": [
    "### 树算法"
   ]
  },
  {
   "cell_type": "markdown",
   "id": "885234ba-fcef-41b6-be2b-04650b123bde",
   "metadata": {},
   "source": [
    "-----------"
   ]
  },
  {
   "cell_type": "markdown",
   "id": "12160d3d-2850-438c-8e95-6732056d49a2",
   "metadata": {},
   "source": [
    "#### 平衡二叉树"
   ]
  },
  {
   "cell_type": "code",
   "execution_count": null,
   "id": "cdd117aa-5c14-429e-a0b0-fe092e9bdb0f",
   "metadata": {},
   "outputs": [],
   "source": [
    "\n",
    "\n"
   ]
  },
  {
   "cell_type": "markdown",
   "id": "d860a40f-5f0b-4674-8b29-94116686d0e1",
   "metadata": {},
   "source": [
    "#### 哈夫曼编码\n"
   ]
  },
  {
   "cell_type": "code",
   "execution_count": null,
   "id": "4d83bbe6-0b51-4476-b46b-387ed10dcefd",
   "metadata": {},
   "outputs": [],
   "source": [
    "\n",
    "\n"
   ]
  },
  {
   "cell_type": "markdown",
   "id": "2a142be3",
   "metadata": {},
   "source": [
    "### 图算法"
   ]
  },
  {
   "cell_type": "markdown",
   "id": "5691f986-58bd-4d38-8e8e-880409057b28",
   "metadata": {},
   "source": [
    "------"
   ]
  },
  {
   "cell_type": "markdown",
   "id": "97597cb1-f842-40d5-ba83-3d66e3dd3ba8",
   "metadata": {},
   "source": [
    "#### 深度优先搜索（DFS）"
   ]
  },
  {
   "cell_type": "code",
   "execution_count": null,
   "id": "9abc6b78-d33d-474c-afde-44826ab29d4f",
   "metadata": {},
   "outputs": [],
   "source": [
    "\n",
    "\n"
   ]
  },
  {
   "cell_type": "markdown",
   "id": "af157473",
   "metadata": {},
   "source": [
    "#### 广度优先搜索（BFS）"
   ]
  },
  {
   "cell_type": "code",
   "execution_count": null,
   "id": "bc69ce97",
   "metadata": {},
   "outputs": [],
   "source": [
    "# deque 实现 BFS\n",
    "from collections import deque\n",
    "def bfs(graph, root):\n",
    "    visited = set()\n",
    "    queue = deque([root])\n",
    "    while queue:\n",
    "        vertex = queue.popleft()\n",
    "        print(vertex, end=\" \")\n",
    "        for neighbour in graph[vertex]:\n",
    "            if neighbour not in visited:\n",
    "                visited.add(neighbour)\n",
    "                queue.append(neighbour)\n",
    "\n",
    "# 图的邻接表表示\n",
    "graph = {\n",
    "    'A': ['B', 'C'],\n",
    "    'B': ['D', 'E'],\n",
    "    'C': ['F'],\n",
    "    'D': [],\n",
    "    'E': ['F'],\n",
    "    'F': []\n",
    "}\n",
    "\n",
    "bfs(graph, 'A')"
   ]
  },
  {
   "cell_type": "markdown",
   "id": "93685b84",
   "metadata": {},
   "source": [
    "#### 最小生成树：Prim算法"
   ]
  },
  {
   "cell_type": "code",
   "execution_count": null,
   "id": "936af841-f7dd-42c5-b867-fe01edf1d58e",
   "metadata": {},
   "outputs": [],
   "source": [
    "\n",
    "\n"
   ]
  },
  {
   "cell_type": "markdown",
   "id": "cdaaac12-7c17-46e2-a526-72edfff0aed5",
   "metadata": {},
   "source": [
    "#### 最小生成树：克鲁斯卡尔（Kruskal）算法"
   ]
  },
  {
   "cell_type": "code",
   "execution_count": null,
   "id": "e68490ac-5303-4371-a00e-5f3aa2bdd29d",
   "metadata": {},
   "outputs": [],
   "source": [
    "\n",
    "\n"
   ]
  },
  {
   "cell_type": "markdown",
   "id": "0ee4f2e7",
   "metadata": {},
   "source": [
    "#### 最短距离：dijkstra算法"
   ]
  },
  {
   "cell_type": "code",
   "execution_count": null,
   "id": "4c170d28",
   "metadata": {},
   "outputs": [],
   "source": [
    "def vis_parents(parents):\n",
    "    from collections import deque\n",
    "    d = deque()\n",
    "    node = parents['final']\n",
    "    while node != 'start':\n",
    "        d.append(node)\n",
    "        node = parents[node]\n",
    "    str = 'start'\n",
    "    while len(d) != 0:\n",
    "        node = d.pop()\n",
    "        str = str + ' -> ' + node\n",
    "    return str + '-> final'\n",
    "\n",
    "def find_lowest_cost_node(costs, processed):\n",
    "    lowest_node = None\n",
    "    lowest_value = float('inf')\n",
    "    for n in costs.keys():\n",
    "        if n in processed:\n",
    "            continue\n",
    "        if costs[n] < lowest_value:\n",
    "            lowest_value = costs[n]\n",
    "            lowest_node = n\n",
    "    return lowest_node\n",
    "\n",
    "def dijkstra(graph, costs, parents):\n",
    "    processed = []\n",
    "    node = find_lowest_cost_node(costs, processed)\n",
    "    while node is not None:\n",
    "        cost = costs[node]\n",
    "        neighbors = graph[node]\n",
    "        for n in neighbors.keys():\n",
    "            if neighbors[n] + cost < costs[n]:\n",
    "                costs[n] = neighbors[n] + cost\n",
    "                parents[n] = node\n",
    "        processed.append(node)\n",
    "        node = find_lowest_cost_node(costs, processed)\n",
    "    return vis_parents(parents)\n",
    "\n",
    "# 构建图\n",
    "graph = {}\n",
    "graph['start'] = {\n",
    "    'A': 6,\n",
    "    'B': 2\n",
    "}\n",
    "graph['A'] = {\n",
    "    'final': 1\n",
    "}\n",
    "\n",
    "graph['B'] = {\n",
    "    'A': 9,\n",
    "    'final': 5\n",
    "}\n",
    "graph['final'] = {}\n",
    "\n",
    "# 构建开销表\n",
    "infinity = float('inf')\n",
    "costs = {\n",
    "    'A': 6,\n",
    "    'B': 2,\n",
    "    'final': infinity\n",
    "}\n",
    "\n",
    "# 构建父节点表\n",
    "parents = {\n",
    "    'A': 'start',\n",
    "    'B': 'start',\n",
    "    'final': None\n",
    "}\n",
    "\n",
    "str = dijkstra(graph, costs, parents)\n",
    "print(str)"
   ]
  },
  {
   "cell_type": "markdown",
   "id": "dcab619d-a5fa-4eb7-ac6c-58f62f3b4fce",
   "metadata": {},
   "source": [
    "#### 最短距离：floyd算法"
   ]
  },
  {
   "cell_type": "code",
   "execution_count": null,
   "id": "620a0016",
   "metadata": {},
   "outputs": [],
   "source": [
    "\n",
    "\n"
   ]
  },
  {
   "cell_type": "markdown",
   "id": "70c79d74",
   "metadata": {},
   "source": [
    "#### 拓扑排序AOV"
   ]
  },
  {
   "cell_type": "code",
   "execution_count": null,
   "id": "0ded517b-bb81-423d-9692-d4fc2ecfd81b",
   "metadata": {},
   "outputs": [],
   "source": [
    "\n",
    "\n"
   ]
  },
  {
   "cell_type": "markdown",
   "id": "95dbf7e2-0853-4be4-bda6-766c06348637",
   "metadata": {},
   "source": [
    "#### 关键路径AOE"
   ]
  },
  {
   "cell_type": "code",
   "execution_count": null,
   "id": "39415659",
   "metadata": {},
   "outputs": [],
   "source": [
    "\n",
    "\n"
   ]
  },
  {
   "cell_type": "markdown",
   "id": "a0077f73-2876-4442-9002-a2ff00bcfbdd",
   "metadata": {},
   "source": [
    "### Git"
   ]
  },
  {
   "cell_type": "raw",
   "id": "12ad887b-aaf6-41d5-8d54-476843a8ee4b",
   "metadata": {},
   "source": [
    "usage: git [-v | --version] [-h | --help] [-C <path>] [-c <name>=<value>]\n",
    "           [--exec-path[=<path>]] [--html-path] [--man-path] [--info-path]\n",
    "           [-p | --paginate | -P | --no-pager] [--no-replace-objects] [--no-lazy-fetch]\n",
    "           [--no-optional-locks] [--no-advice] [--bare] [--git-dir=<path>]\n",
    "           [--work-tree=<path>] [--namespace=<name>] [--config-env=<name>=<envvar>]\n",
    "           <command> [<args>]\n",
    "\n",
    "These are common Git commands used in various situations:\n",
    "\n",
    "start a working area (see also: git help tutorial)\n",
    "   clone      Clone a repository into a new directory\n",
    "   init       Create an empty Git repository or reinitialize an existing one\n",
    "\n",
    "work on the current change (see also: git help everyday)\n",
    "   add        Add file contents to the index\n",
    "   mv         Move or rename a file, a directory, or a symlink\n",
    "   restore    Restore working tree files\n",
    "   rm         Remove files from the working tree and from the index\n",
    "\n",
    "examine the history and state (see also: git help revisions)\n",
    "   bisect     Use binary search to find the commit that introduced a bug\n",
    "   diff       Show changes between commits, commit and working tree, etc\n",
    "   grep       Print lines matching a pattern\n",
    "   log        Show commit logs\n",
    "   show       Show various types of objects\n",
    "   status     Show the working tree status\n",
    "\n",
    "grow, mark and tweak your common history\n",
    "   backfill   Download missing objects in a partial clone\n",
    "   branch     List, create, or delete branches\n",
    "   commit     Record changes to the repository\n",
    "   merge      Join two or more development histories together\n",
    "   rebase     Reapply commits on top of another base tip\n",
    "   reset      Reset current HEAD to the specified state\n",
    "   switch     Switch branches\n",
    "   tag        Create, list, delete or verify a tag object signed with GPG\n",
    "\n",
    "collaborate (see also: git help workflows)\n",
    "   fetch      Download objects and refs from another repository\n",
    "   pull       Fetch from and integrate with another repository or a local branch\n",
    "   push       Update remote refs along with associated objects\n",
    "\n",
    "'git help -a' and 'git help -g' list available subcommands and some\n",
    "concept guides. See 'git help <command>' or 'git help <concept>'\n",
    "to read about a specific subcommand or concept.\n",
    "See 'git help git' for an overview of the system."
   ]
  },
  {
   "cell_type": "markdown",
   "id": "fa2fe975-52e1-4e76-86c5-563bc278207e",
   "metadata": {},
   "source": [
    "![Git区的划分](imgs/git.jpg)"
   ]
  },
  {
   "cell_type": "markdown",
   "id": "b58a2da4-eb7e-47d2-9717-0578d4ed2754",
   "metadata": {},
   "source": [
    "#### 本地操作"
   ]
  },
  {
   "cell_type": "markdown",
   "id": "6123a3a1-529d-493a-9349-44c0c063c1e5",
   "metadata": {},
   "source": [
    "| 命令   | 功能              \n",
    "|:---------   |:-------------\n",
    "| git init    | 初始化仓库     \n",
    "|git status\t|查看当前仓库状态\n",
    "|git log\t|查看提交历史\n",
    "| git config | 配置信息 \n",
    "| git add .\t| 添加所有更改到暂存区\n",
    "| git add \\<file>\t| 添加指定文件到暂存区\n",
    "| git commit -m \"提交描述\"| 将暂存区文件添加到本地仓库"
   ]
  },
  {
   "cell_type": "markdown",
   "id": "8ca1c956-76a8-40d2-96ea-360ccde2035d",
   "metadata": {},
   "source": [
    "##### 初始化一个仓库"
   ]
  },
  {
   "cell_type": "raw",
   "id": "6dc9742b-199f-465f-9473-635d7af1a2e2",
   "metadata": {},
   "source": [
    "git init"
   ]
  },
  {
   "cell_type": "markdown",
   "id": "e2876678-52b7-4d87-b968-73816bc77a17",
   "metadata": {},
   "source": [
    "##### 配置用户信息（Git 首次安装必须设置一下用户签名，否则无法提交代码。之后无需再次配置）"
   ]
  },
  {
   "cell_type": "raw",
   "id": "74167d0e-2871-4bba-a43c-3680907b07b8",
   "metadata": {},
   "source": [
    "git congif --global user.name \"Your Name\"\n",
    "git config --global user.email \"youremail@example.com\""
   ]
  },
  {
   "cell_type": "markdown",
   "id": "67f05c61-3269-4034-9c69-4bae55d2fcfa",
   "metadata": {},
   "source": [
    "- 签名的作用是区分不同操作者身份，用户的签名信息在每一个版本的提交信息中能够看到，以此确认本次提交是谁做的。\n",
    "- 这里设置用户签名和将来登录 GitHub（或其他代码托管中心）的账号没有任何关系"
   ]
  },
  {
   "cell_type": "markdown",
   "id": "24242781-e159-4a62-b153-6378a91e143e",
   "metadata": {},
   "source": [
    "##### Workspace -> Index"
   ]
  },
  {
   "cell_type": "raw",
   "id": "11b9f9b2-b3cd-45a4-a873-7ccfb672da32",
   "metadata": {},
   "source": [
    "git add <filename>  # 添加指定文件到暂存区\n",
    "git add .           # 添加所有更改到暂存区"
   ]
  },
  {
   "cell_type": "markdown",
   "id": "487dfe55-4db3-4d5c-8efb-cd1f27dfb07d",
   "metadata": {},
   "source": [
    "##### Index -> Repository"
   ]
  },
  {
   "cell_type": "raw",
   "id": "45db881d-16d5-4d1f-ab8e-e54ffbad87c1",
   "metadata": {},
   "source": [
    "git commit -m \"提交描述\" # 提交暂存区的更改到本地仓库"
   ]
  },
  {
   "cell_type": "markdown",
   "id": "dbb643e8-577e-423b-b29a-1b44c6fd6a14",
   "metadata": {},
   "source": [
    "- 使用命令git add <file>，可反复多次使用，添加多个文件至暂存区；最后在使用命令git commit -m <message>一次性提交至本地仓库。\n",
    "\n",
    "通过以上命令，即可创建一个仓库并提交文件。"
   ]
  },
  {
   "cell_type": "markdown",
   "id": "95b1ace2-0905-469e-846c-e45b83af63fa",
   "metadata": {},
   "source": [
    "#### 远程操作"
   ]
  },
  {
   "cell_type": "markdown",
   "id": "63e17150-e1e8-447d-881f-dbf6bfee6d85",
   "metadata": {},
   "source": [
    "| 命令   | 功能              \n",
    "|:---------   |:-------------\n",
    "| git remote add origin \\<repo_url>\t| 关联远程仓库\n",
    "|git pull origin \\<branch-name>\t| 拉取远程更新并合并\n",
    "| git push origin \\<branch-name>\t| 推送本地分支到远程\n",
    "| git push -u origin \\<branch-name>\t|推送并设置 upstream（后续可直接 git push）      \n",
    "| git clone \\<repo_url> | 克隆远程仓库"
   ]
  },
  {
   "cell_type": "markdown",
   "id": "3208cd1e-85ad-4754-a2fc-99999cb96602",
   "metadata": {},
   "source": [
    "##### 克隆并创建分支"
   ]
  },
  {
   "cell_type": "raw",
   "id": "541db329-b3a1-47f8-89a3-2be553d5d3f8",
   "metadata": {},
   "source": [
    "git clone <远程仓库地址> -b <分支名> # 会在当前目录下创建一个目录"
   ]
  },
  {
   "cell_type": "markdown",
   "id": "5265a6db-0cff-4725-bcc7-67f7368e044c",
   "metadata": {},
   "source": [
    "##### 拉取远程仓库的变化（GitHub->本地）"
   ]
  },
  {
   "cell_type": "raw",
   "id": "178c0152-9bf2-4ef3-bc9b-bb5adf18591e",
   "metadata": {},
   "source": [
    "git pull origin <分支名> # 表示将代码从远程仓库的<分支名>分支，拉取到本地仓库"
   ]
  },
  {
   "cell_type": "markdown",
   "id": "95737491-4f46-4d4f-891d-6aa266c3c56e",
   "metadata": {},
   "source": [
    "- 分支名默认为master 或 main\n",
    "- origin 为本地仓库指向远程仓库的指针"
   ]
  },
  {
   "cell_type": "markdown",
   "id": "8d19e4d4-20cc-447e-b5d2-0159d17f414e",
   "metadata": {},
   "source": [
    "##### 推送到远程仓库（本地->GitHub）"
   ]
  },
  {
   "cell_type": "raw",
   "id": "b62a0590-12c5-4b62-983d-7f85ee14a74a",
   "metadata": {},
   "source": [
    "git push origin <分支名> # 表示将代码从本地仓库，拉取到远程仓库的<分支名>分支"
   ]
  },
  {
   "cell_type": "markdown",
   "id": "61c85111-2eae-42b2-a23f-b90987bc24b0",
   "metadata": {},
   "source": [
    "#### Git分支模型"
   ]
  },
  {
   "cell_type": "markdown",
   "id": "de2d8c21-67d0-4bfa-80bd-428a49c6d8d6",
   "metadata": {},
   "source": [
    "| 命令   | 功能              \n",
    "|:---------   |:-------------  \n",
    "| git branch\t|查看本地分支\n",
    "| git branch -r\t|查看远程分支\n",
    "| git branch -a\t|查看所有分支（本地 + 远程）\n",
    "| git branch 新分支名\t|创建新分支（不会切换）\n",
    "| git checkout -b 新分支名 / git switch -c 新分支名\t|创建并切换新分支\n",
    "| git checkout 分支名 / git switch 分支名|\t切换分支\n",
    "| git branch -d 分支名|\t删除本地分支（已合并）\n",
    "| git branch -D 分支名|\t强制删除本地分支（未合并）\n",
    "| git push origin --delete 分支名|\t删除远程分支\n",
    "| git branch -m 旧分支名 新分支名|\t重命名分支\n",
    "| git merge 分支名|\t合并分支（用于将一个分支的更改合并到当前分支）"
   ]
  },
  {
   "cell_type": "markdown",
   "id": "9e3095cc-44d9-44d3-8410-6c4b490246af",
   "metadata": {},
   "source": [
    "##### 创建远程分支的方法"
   ]
  },
  {
   "cell_type": "raw",
   "id": "c6a74514-97ca-4f25-883b-e2787dc92c6d",
   "metadata": {},
   "source": [
    "# 1.本地创建分支并推送到远程\n",
    "git branch feature-xyz  # 创建 feature-xyz 分支\n",
    "git switch feature-xyz   # 切换到新分支（或使用 `git checkout feature-xyz`）\n",
    "git push -u origin feature-xyz\n",
    "\n",
    "# 2.直接在 GitHub 上创建分支\n",
    "打开 GitHub 仓库，进入 \"Branches\" 选项卡\n",
    "点击 \"New Branch\"，输入分支名称（如 feature-xyz）\n",
    "创建成功后，本地同步该分支：\n",
    "git fetch origin\n",
    "git switch feature-xyz  # 切换到远程新分支\n",
    "git pull origin feature-xyz  # 确保本地最新\n"
   ]
  },
  {
   "cell_type": "markdown",
   "id": "1a75608b-a68c-4146-bd83-353d30710012",
   "metadata": {},
   "source": [
    "#### 简单实例"
   ]
  },
  {
   "cell_type": "markdown",
   "id": "f06a13a0-805c-4032-a694-696e401dfd49",
   "metadata": {},
   "source": [
    "##### 1.初始化本地仓库"
   ]
  },
  {
   "cell_type": "raw",
   "id": "9a1a7d4f-fb4b-4d8f-af6a-49ab290777f4",
   "metadata": {},
   "source": [
    "cd E:\n",
    "mkdir my_repository\n",
    "cd E:/my_repository\n",
    "git init"
   ]
  },
  {
   "cell_type": "markdown",
   "id": "7d1156d8-e658-42da-b72c-f34d1b86e9b0",
   "metadata": {},
   "source": [
    "##### 2.在GitHub创建一个新的仓库"
   ]
  },
  {
   "cell_type": "raw",
   "id": "27f197ad-4a02-40dd-8ce8-7261956fa414",
   "metadata": {},
   "source": [
    "git remote add origin <远程仓库地址>（例如 https://github.com/your-username/your-repository-name.git）\n",
    "git pull origin main --rebase        # 先远程仓库同步到本地仓库，防止报错"
   ]
  },
  {
   "cell_type": "markdown",
   "id": "713b96b5-83a9-488f-9097-5c5a079e0c2a",
   "metadata": {},
   "source": [
    "- origin 为本地仓库指向远程仓库的指针， git remote add origin <远程仓库地址>即将origin变量与远程仓库地址进行链接\n",
    "- main或master为远程仓库的分支名称\n",
    "- main和master其实是一样的，git前期默认分支名为master，后期默认分支名改为main（因为master有sm的含义）"
   ]
  },
  {
   "cell_type": "markdown",
   "id": "1784fc30-190e-402f-a699-bc0647baef4b",
   "metadata": {},
   "source": [
    "##### 3.本地仓库文件管理"
   ]
  },
  {
   "cell_type": "raw",
   "id": "cdf098c1-a048-4cfe-b9ff-1d1ac8ce51a1",
   "metadata": {},
   "source": [
    "git add .\n",
    "git commit -m \"提交描述\"       # -m 参数不可省略"
   ]
  },
  {
   "cell_type": "markdown",
   "id": "7d7edcaf-de75-45d4-9b50-95167c43ff47",
   "metadata": {},
   "source": [
    "##### 4.将本地仓库连接到GitHub仓库"
   ]
  },
  {
   "cell_type": "raw",
   "id": "89dd5f5e-a1a6-4c6f-96c8-955fe33356c3",
   "metadata": {},
   "source": [
    "git push origin main"
   ]
  },
  {
   "cell_type": "markdown",
   "id": "53957638-e684-4bd3-b391-9d07a6c0b65e",
   "metadata": {},
   "source": [
    "##### 5.更新本地文件后，需重复3和4操作完成远程同步"
   ]
  }
 ],
 "metadata": {
  "kernelspec": {
   "display_name": "Python 3 (ipykernel)",
   "language": "python",
   "name": "python3"
  },
  "language_info": {
   "codemirror_mode": {
    "name": "ipython",
    "version": 3
   },
   "file_extension": ".py",
   "mimetype": "text/x-python",
   "name": "python",
   "nbconvert_exporter": "python",
   "pygments_lexer": "ipython3",
   "version": "3.12.4"
  }
 },
 "nbformat": 4,
 "nbformat_minor": 5
}
